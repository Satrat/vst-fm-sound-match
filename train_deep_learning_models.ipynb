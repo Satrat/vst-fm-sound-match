{
 "cells": [
  {
   "cell_type": "markdown",
   "metadata": {},
   "source": [
    "## Train Deep Learning Models"
   ]
  },
  {
   "cell_type": "markdown",
   "metadata": {},
   "source": [
    "In this notebook, we train a set of deep learning models using dat generated in the dataset_generation notebook. The input training data for each model is the audio features extracted for a synth patch, and the ground truth data is the parameter values for that synth patch. Each trained model is saved in the saved_models folder."
   ]
  },
  {
   "cell_type": "code",
   "execution_count": 1,
   "metadata": {},
   "outputs": [],
   "source": [
    "import spiegel\n",
    "import numpy as np\n",
    "import tensorflow as tf"
   ]
  },
  {
   "cell_type": "markdown",
   "metadata": {},
   "source": [
    "#### Multi-Layer Perceptron"
   ]
  },
  {
   "cell_type": "markdown",
   "metadata": {},
   "source": [
    "Her we train a relatively basic fully connected MLP model. The audio features, which are in numpy arrays with time slices, need to be flattened prior to being fed into the network."
   ]
  },
  {
   "cell_type": "code",
   "execution_count": 2,
   "metadata": {},
   "outputs": [
    {
     "name": "stdout",
     "output_type": "stream",
     "text": [
      "Model: \"sequential\"\n",
      "_________________________________________________________________\n",
      "Layer (type)                 Output Shape              Param #   \n",
      "=================================================================\n",
      "dense (Dense)                (None, 50)                28650     \n",
      "_________________________________________________________________\n",
      "dense_1 (Dense)              (None, 40)                2040      \n",
      "_________________________________________________________________\n",
      "dense_2 (Dense)              (None, 30)                1230      \n",
      "_________________________________________________________________\n",
      "dense_3 (Dense)              (None, 9)                 279       \n",
      "=================================================================\n",
      "Total params: 32,199\n",
      "Trainable params: 32,199\n",
      "Non-trainable params: 0\n",
      "_________________________________________________________________\n"
     ]
    }
   ],
   "source": [
    "trainFeatures = np.load('./data_simple_FM_mfcc/train_features.npy')\n",
    "trainParams = np.load('./data_simple_FM_mfcc/train_patches.npy')\n",
    "testFeatures = np.load('./data_simple_FM_mfcc/test_features.npy')\n",
    "testParams = np.load('./data_simple_FM_mfcc/test_patches.npy')\n",
    "\n",
    "# Flatten feature time slices\n",
    "trainFeatures = trainFeatures.reshape(trainFeatures.shape[0], -1)\n",
    "testFeatures = testFeatures.reshape(testFeatures.shape[0], -1)\n",
    "\n",
    "# Setup callbacks for trainings\n",
    "logger = spiegel.estimator.TFEpochLogger()\n",
    "earlyStopping = tf.keras.callbacks.EarlyStopping(monitor='val_loss', patience=10)\n",
    "\n",
    "# Instantiate MLP Model\n",
    "mlp = spiegel.estimator.MLP((trainFeatures.shape[-1],),\n",
    "                            trainParams.shape[-1],\n",
    "                            callbacks=[logger, earlyStopping])\n",
    "\n",
    "# Add training and validation data\n",
    "mlp.add_training_data(trainFeatures, trainParams)\n",
    "mlp.add_testing_data(testFeatures, testParams)\n",
    "mlp.model.summary()"
   ]
  },
  {
   "cell_type": "code",
   "execution_count": 3,
   "metadata": {},
   "outputs": [
    {
     "name": "stdout",
     "output_type": "stream",
     "text": [
      "Train for 782 steps, validate for 157 steps\n",
      "Epoch 1/100\n",
      "782/782 [==============================] - 2s 2ms/step - loss: 0.2695 - accuracy: 0.2431 - val_loss: 0.2552 - val_accuracy: 0.2698\n",
      "Epoch 2/100\n",
      "782/782 [==============================] - 1s 2ms/step - loss: 0.2517 - accuracy: 0.2749 - val_loss: 0.2508 - val_accuracy: 0.2853\n",
      "Epoch 3/100\n",
      "782/782 [==============================] - 1s 2ms/step - loss: 0.2478 - accuracy: 0.2904 - val_loss: 0.2472 - val_accuracy: 0.2966\n",
      "Epoch 4/100\n",
      "782/782 [==============================] - 1s 2ms/step - loss: 0.2452 - accuracy: 0.3019 - val_loss: 0.2448 - val_accuracy: 0.3093\n",
      "Epoch 5/100\n",
      "782/782 [==============================] - 1s 2ms/step - loss: 0.2433 - accuracy: 0.3087 - val_loss: 0.2443 - val_accuracy: 0.3060\n",
      "Epoch 6/100\n",
      "782/782 [==============================] - 1s 2ms/step - loss: 0.2419 - accuracy: 0.3122 - val_loss: 0.2427 - val_accuracy: 0.3197\n",
      "Epoch 7/100\n",
      "782/782 [==============================] - 1s 2ms/step - loss: 0.2408 - accuracy: 0.3160 - val_loss: 0.2420 - val_accuracy: 0.3157\n",
      "Epoch 8/100\n",
      "782/782 [==============================] - 1s 2ms/step - loss: 0.2400 - accuracy: 0.3185 - val_loss: 0.2413 - val_accuracy: 0.3187\n",
      "Epoch 9/100\n",
      "782/782 [==============================] - 1s 2ms/step - loss: 0.2394 - accuracy: 0.3218 - val_loss: 0.2414 - val_accuracy: 0.3210\n",
      "Epoch 10/100\n",
      "782/782 [==============================] - 1s 2ms/step - loss: 0.2388 - accuracy: 0.3221 - val_loss: 0.2400 - val_accuracy: 0.3229\n",
      "Epoch 11/100\n",
      "782/782 [==============================] - 1s 2ms/step - loss: 0.2382 - accuracy: 0.3261 - val_loss: 0.2394 - val_accuracy: 0.3271\n",
      "Epoch 12/100\n",
      "782/782 [==============================] - 1s 2ms/step - loss: 0.2376 - accuracy: 0.3281 - val_loss: 0.2393 - val_accuracy: 0.3236\n",
      "Epoch 13/100\n",
      "782/782 [==============================] - 1s 2ms/step - loss: 0.2373 - accuracy: 0.3277 - val_loss: 0.2391 - val_accuracy: 0.3320\n",
      "Epoch 14/100\n",
      "782/782 [==============================] - 1s 2ms/step - loss: 0.2369 - accuracy: 0.3274 - val_loss: 0.2388 - val_accuracy: 0.3277\n",
      "Epoch 15/100\n",
      "782/782 [==============================] - 1s 2ms/step - loss: 0.2365 - accuracy: 0.3288 - val_loss: 0.2382 - val_accuracy: 0.3276\n",
      "Epoch 16/100\n",
      "782/782 [==============================] - 1s 2ms/step - loss: 0.2361 - accuracy: 0.3288 - val_loss: 0.2378 - val_accuracy: 0.3278\n",
      "Epoch 17/100\n",
      "782/782 [==============================] - 1s 2ms/step - loss: 0.2358 - accuracy: 0.3305 - val_loss: 0.2378 - val_accuracy: 0.3289\n",
      "Epoch 18/100\n",
      "782/782 [==============================] - 1s 2ms/step - loss: 0.2356 - accuracy: 0.3309 - val_loss: 0.2377 - val_accuracy: 0.3286\n",
      "Epoch 19/100\n",
      "782/782 [==============================] - 1s 2ms/step - loss: 0.2352 - accuracy: 0.3314 - val_loss: 0.2378 - val_accuracy: 0.3307\n",
      "Epoch 20/100\n",
      "782/782 [==============================] - 1s 2ms/step - loss: 0.2349 - accuracy: 0.3320 - val_loss: 0.2372 - val_accuracy: 0.3337\n",
      "Epoch 21/100\n",
      "782/782 [==============================] - 1s 2ms/step - loss: 0.2347 - accuracy: 0.3324 - val_loss: 0.2371 - val_accuracy: 0.3283\n",
      "Epoch 22/100\n",
      "782/782 [==============================] - 1s 2ms/step - loss: 0.2345 - accuracy: 0.3322 - val_loss: 0.2370 - val_accuracy: 0.3311\n",
      "Epoch 23/100\n",
      "782/782 [==============================] - 1s 2ms/step - loss: 0.2343 - accuracy: 0.3342 - val_loss: 0.2368 - val_accuracy: 0.3321\n",
      "Epoch 24/100\n",
      "782/782 [==============================] - 1s 2ms/step - loss: 0.2341 - accuracy: 0.3341 - val_loss: 0.2367 - val_accuracy: 0.3345\n",
      "Epoch 25/100\n",
      "782/782 [==============================] - 1s 2ms/step - loss: 0.2338 - accuracy: 0.3363 - val_loss: 0.2362 - val_accuracy: 0.3337\n",
      "Epoch 26/100\n",
      "782/782 [==============================] - 1s 2ms/step - loss: 0.2337 - accuracy: 0.3356 - val_loss: 0.2364 - val_accuracy: 0.3342\n",
      "Epoch 27/100\n",
      "782/782 [==============================] - 1s 2ms/step - loss: 0.2335 - accuracy: 0.3362 - val_loss: 0.2371 - val_accuracy: 0.3341\n",
      "Epoch 28/100\n",
      "782/782 [==============================] - 1s 2ms/step - loss: 0.2333 - accuracy: 0.3361 - val_loss: 0.2364 - val_accuracy: 0.3338\n",
      "Epoch 29/100\n",
      "782/782 [==============================] - 1s 2ms/step - loss: 0.2332 - accuracy: 0.3378 - val_loss: 0.2359 - val_accuracy: 0.3347\n",
      "Epoch 30/100\n",
      "782/782 [==============================] - 1s 2ms/step - loss: 0.2330 - accuracy: 0.3390 - val_loss: 0.2364 - val_accuracy: 0.3385\n",
      "Epoch 31/100\n",
      "782/782 [==============================] - 1s 2ms/step - loss: 0.2329 - accuracy: 0.3382 - val_loss: 0.2365 - val_accuracy: 0.3365\n",
      "Epoch 32/100\n",
      "782/782 [==============================] - 1s 2ms/step - loss: 0.2326 - accuracy: 0.3380 - val_loss: 0.2362 - val_accuracy: 0.3361\n",
      "Epoch 33/100\n",
      "782/782 [==============================] - 1s 2ms/step - loss: 0.2326 - accuracy: 0.3382 - val_loss: 0.2360 - val_accuracy: 0.3371\n",
      "Epoch 34/100\n",
      "782/782 [==============================] - 1s 2ms/step - loss: 0.2324 - accuracy: 0.3387 - val_loss: 0.2363 - val_accuracy: 0.3410\n",
      "Epoch 35/100\n",
      "782/782 [==============================] - 1s 2ms/step - loss: 0.2322 - accuracy: 0.3383 - val_loss: 0.2358 - val_accuracy: 0.3376\n",
      "Epoch 36/100\n",
      "782/782 [==============================] - 1s 2ms/step - loss: 0.2321 - accuracy: 0.3391 - val_loss: 0.2363 - val_accuracy: 0.3400\n",
      "Epoch 37/100\n",
      "782/782 [==============================] - 1s 2ms/step - loss: 0.2320 - accuracy: 0.3402 - val_loss: 0.2353 - val_accuracy: 0.3422\n",
      "Epoch 38/100\n",
      "782/782 [==============================] - 1s 2ms/step - loss: 0.2319 - accuracy: 0.3402 - val_loss: 0.2352 - val_accuracy: 0.3410\n",
      "Epoch 39/100\n",
      "782/782 [==============================] - 1s 2ms/step - loss: 0.2316 - accuracy: 0.3399 - val_loss: 0.2353 - val_accuracy: 0.3409\n",
      "Epoch 40/100\n",
      "782/782 [==============================] - 1s 2ms/step - loss: 0.2316 - accuracy: 0.3418 - val_loss: 0.2354 - val_accuracy: 0.3397\n",
      "Epoch 41/100\n",
      "782/782 [==============================] - 1s 2ms/step - loss: 0.2315 - accuracy: 0.3413 - val_loss: 0.2355 - val_accuracy: 0.3384\n",
      "Epoch 42/100\n",
      "782/782 [==============================] - 1s 2ms/step - loss: 0.2313 - accuracy: 0.3435 - val_loss: 0.2353 - val_accuracy: 0.3454\n",
      "Epoch 43/100\n",
      "782/782 [==============================] - 1s 2ms/step - loss: 0.2313 - accuracy: 0.3423 - val_loss: 0.2353 - val_accuracy: 0.3402\n",
      "Epoch 44/100\n",
      "782/782 [==============================] - 1s 2ms/step - loss: 0.2312 - accuracy: 0.3431 - val_loss: 0.2355 - val_accuracy: 0.3394\n",
      "Epoch 45/100\n",
      "782/782 [==============================] - 1s 2ms/step - loss: 0.2311 - accuracy: 0.3443 - val_loss: 0.2352 - val_accuracy: 0.3415\n",
      "Epoch 46/100\n",
      "782/782 [==============================] - 1s 2ms/step - loss: 0.2310 - accuracy: 0.3438 - val_loss: 0.2350 - val_accuracy: 0.3409\n",
      "Epoch 47/100\n",
      "782/782 [==============================] - 1s 2ms/step - loss: 0.2309 - accuracy: 0.3429 - val_loss: 0.2353 - val_accuracy: 0.3406\n",
      "Epoch 48/100\n",
      "782/782 [==============================] - 1s 2ms/step - loss: 0.2308 - accuracy: 0.3446 - val_loss: 0.2347 - val_accuracy: 0.3430\n",
      "Epoch 49/100\n",
      "782/782 [==============================] - 1s 2ms/step - loss: 0.2307 - accuracy: 0.3428 - val_loss: 0.2350 - val_accuracy: 0.3414\n",
      "Epoch 50/100\n",
      "782/782 [==============================] - 1s 2ms/step - loss: 0.2306 - accuracy: 0.3437 - val_loss: 0.2349 - val_accuracy: 0.3419\n",
      "Epoch 51/100\n",
      "782/782 [==============================] - 1s 2ms/step - loss: 0.2305 - accuracy: 0.3441 - val_loss: 0.2347 - val_accuracy: 0.3429\n",
      "Epoch 52/100\n",
      "782/782 [==============================] - 1s 2ms/step - loss: 0.2305 - accuracy: 0.3437 - val_loss: 0.2349 - val_accuracy: 0.3400\n",
      "Epoch 53/100\n",
      "782/782 [==============================] - 1s 2ms/step - loss: 0.2303 - accuracy: 0.3425 - val_loss: 0.2346 - val_accuracy: 0.3401\n",
      "Epoch 54/100\n",
      "782/782 [==============================] - 1s 2ms/step - loss: 0.2302 - accuracy: 0.3454 - val_loss: 0.2345 - val_accuracy: 0.3435\n",
      "Epoch 55/100\n",
      "782/782 [==============================] - 1s 2ms/step - loss: 0.2301 - accuracy: 0.3448 - val_loss: 0.2344 - val_accuracy: 0.3423\n",
      "Epoch 56/100\n",
      "782/782 [==============================] - 1s 2ms/step - loss: 0.2302 - accuracy: 0.3433 - val_loss: 0.2347 - val_accuracy: 0.3433\n",
      "Epoch 57/100\n",
      "782/782 [==============================] - 1s 2ms/step - loss: 0.2301 - accuracy: 0.3451 - val_loss: 0.2345 - val_accuracy: 0.3428\n",
      "Epoch 58/100\n",
      "782/782 [==============================] - 1s 2ms/step - loss: 0.2300 - accuracy: 0.3446 - val_loss: 0.2345 - val_accuracy: 0.3433\n",
      "Epoch 59/100\n",
      "782/782 [==============================] - 1s 2ms/step - loss: 0.2299 - accuracy: 0.3459 - val_loss: 0.2345 - val_accuracy: 0.3404\n",
      "Epoch 60/100\n",
      "782/782 [==============================] - 1s 2ms/step - loss: 0.2299 - accuracy: 0.3450 - val_loss: 0.2345 - val_accuracy: 0.3442\n",
      "Epoch 61/100\n",
      "782/782 [==============================] - 1s 2ms/step - loss: 0.2297 - accuracy: 0.3460 - val_loss: 0.2347 - val_accuracy: 0.3415\n",
      "Epoch 62/100\n",
      "782/782 [==============================] - 1s 2ms/step - loss: 0.2297 - accuracy: 0.3456 - val_loss: 0.2346 - val_accuracy: 0.3441\n",
      "Epoch 63/100\n",
      "782/782 [==============================] - 1s 2ms/step - loss: 0.2297 - accuracy: 0.3454 - val_loss: 0.2344 - val_accuracy: 0.3387\n",
      "Epoch 64/100\n",
      "782/782 [==============================] - 1s 2ms/step - loss: 0.2296 - accuracy: 0.3461 - val_loss: 0.2342 - val_accuracy: 0.3446\n",
      "Epoch 65/100\n",
      "782/782 [==============================] - 1s 2ms/step - loss: 0.2294 - accuracy: 0.3470 - val_loss: 0.2345 - val_accuracy: 0.3438\n",
      "Epoch 66/100\n",
      "782/782 [==============================] - 1s 2ms/step - loss: 0.2294 - accuracy: 0.3462 - val_loss: 0.2347 - val_accuracy: 0.3381\n",
      "Epoch 67/100\n",
      "782/782 [==============================] - 1s 2ms/step - loss: 0.2294 - accuracy: 0.3462 - val_loss: 0.2338 - val_accuracy: 0.3444\n",
      "Epoch 68/100\n",
      "782/782 [==============================] - 1s 2ms/step - loss: 0.2294 - accuracy: 0.3461 - val_loss: 0.2343 - val_accuracy: 0.3410\n",
      "Epoch 69/100\n",
      "782/782 [==============================] - 1s 2ms/step - loss: 0.2293 - accuracy: 0.3443 - val_loss: 0.2342 - val_accuracy: 0.3419\n",
      "Epoch 70/100\n",
      "782/782 [==============================] - 1s 2ms/step - loss: 0.2292 - accuracy: 0.3462 - val_loss: 0.2341 - val_accuracy: 0.3413\n",
      "Epoch 71/100\n",
      "782/782 [==============================] - 1s 2ms/step - loss: 0.2291 - accuracy: 0.3471 - val_loss: 0.2338 - val_accuracy: 0.3429\n",
      "Epoch 72/100\n",
      "782/782 [==============================] - 1s 2ms/step - loss: 0.2291 - accuracy: 0.3478 - val_loss: 0.2340 - val_accuracy: 0.3429\n",
      "Epoch 73/100\n",
      "782/782 [==============================] - 1s 2ms/step - loss: 0.2291 - accuracy: 0.3471 - val_loss: 0.2341 - val_accuracy: 0.3421\n",
      "Epoch 74/100\n",
      "782/782 [==============================] - 1s 2ms/step - loss: 0.2291 - accuracy: 0.3469 - val_loss: 0.2348 - val_accuracy: 0.3415\n",
      "Epoch 75/100\n",
      "782/782 [==============================] - 1s 2ms/step - loss: 0.2290 - accuracy: 0.3487 - val_loss: 0.2342 - val_accuracy: 0.3419\n",
      "Epoch 76/100\n",
      "782/782 [==============================] - 1s 2ms/step - loss: 0.2289 - accuracy: 0.3477 - val_loss: 0.2344 - val_accuracy: 0.3396\n",
      "Epoch 77/100\n",
      "782/782 [==============================] - 1s 2ms/step - loss: 0.2289 - accuracy: 0.3461 - val_loss: 0.2342 - val_accuracy: 0.3442\n",
      "Epoch 78/100\n",
      "782/782 [==============================] - 1s 2ms/step - loss: 0.2290 - accuracy: 0.3478 - val_loss: 0.2343 - val_accuracy: 0.3405\n",
      "Epoch 79/100\n",
      "782/782 [==============================] - 1s 2ms/step - loss: 0.2288 - accuracy: 0.3469 - val_loss: 0.2341 - val_accuracy: 0.3444\n",
      "Epoch 80/100\n",
      "782/782 [==============================] - 1s 2ms/step - loss: 0.2287 - accuracy: 0.3484 - val_loss: 0.2342 - val_accuracy: 0.3405\n",
      "Epoch 81/100\n",
      "782/782 [==============================] - 1s 2ms/step - loss: 0.2287 - accuracy: 0.3472 - val_loss: 0.2342 - val_accuracy: 0.3407\n"
     ]
    }
   ],
   "source": [
    "mlp.fit(epochs=100)"
   ]
  },
  {
   "cell_type": "code",
   "execution_count": 4,
   "metadata": {
    "scrolled": true
   },
   "outputs": [
    {
     "data": {
      "image/png": "[encoded data removed]",
      "text/plain": [
       "<Figure size 432x288 with 2 Axes>"
      ]
     },
     "metadata": {
      "needs_background": "light"
     },
     "output_type": "display_data"
    }
   ],
   "source": [
    "mlp.save_model('./saved_models/simple_fm_mlp.h5')\n",
    "logger.plot()"
   ]
  },
  {
   "cell_type": "markdown",
   "metadata": {},
   "source": [
    "#### Long short-term memory (LSTM) "
   ]
  },
  {
   "cell_type": "code",
   "execution_count": 5,
   "metadata": {},
   "outputs": [
    {
     "name": "stdout",
     "output_type": "stream",
     "text": [
      "Model: \"sequential_1\"\n",
      "_________________________________________________________________\n",
      "Layer (type)                 Output Shape              Param #   \n",
      "=================================================================\n",
      "lstm (LSTM)                  (None, 44, 100)           45600     \n",
      "_________________________________________________________________\n",
      "lstm_1 (LSTM)                (None, 44, 100)           80400     \n",
      "_________________________________________________________________\n",
      "lstm_2 (LSTM)                (None, 100)               80400     \n",
      "_________________________________________________________________\n",
      "dropout (Dropout)            (None, 100)               0         \n",
      "_________________________________________________________________\n",
      "dense_4 (Dense)              (None, 9)                 909       \n",
      "=================================================================\n",
      "Total params: 207,309\n",
      "Trainable params: 207,309\n",
      "Non-trainable params: 0\n",
      "_________________________________________________________________\n"
     ]
    }
   ],
   "source": [
    "trainFeatures = np.load('./data_simple_FM_mfcc/train_features.npy')\n",
    "trainParams = np.load('./data_simple_FM_mfcc/train_patches.npy')\n",
    "testFeatures = np.load('./data_simple_FM_mfcc/test_features.npy')\n",
    "testParams = np.load('./data_simple_FM_mfcc/test_patches.npy')\n",
    "\n",
    "# Setup callbacks for trainings\n",
    "logger = spiegel.estimator.TFEpochLogger()\n",
    "earlyStopping = tf.keras.callbacks.EarlyStopping(monitor='val_loss', patience=10)\n",
    "\n",
    "lstm = spiegel.estimator.LSTM(trainFeatures.shape[-2:],\n",
    "                              trainParams.shape[-1],\n",
    "                              callbacks=[logger, earlyStopping])\n",
    "\n",
    "lstm.add_training_data(trainFeatures, trainParams)\n",
    "lstm.add_testing_data(testFeatures, testParams)\n",
    "lstm.model.summary()"
   ]
  },
  {
   "cell_type": "code",
   "execution_count": 6,
   "metadata": {},
   "outputs": [
    {
     "name": "stdout",
     "output_type": "stream",
     "text": [
      "Train for 782 steps, validate for 157 steps\n",
      "Epoch 1/100\n",
      "782/782 [==============================] - 86s 110ms/step - loss: 0.2662 - accuracy: 0.2344 - val_loss: 0.2525 - val_accuracy: 0.2765\n",
      "Epoch 2/100\n",
      "782/782 [==============================] - 79s 101ms/step - loss: 0.2524 - accuracy: 0.2666 - val_loss: 0.2480 - val_accuracy: 0.2848\n",
      "Epoch 3/100\n",
      "782/782 [==============================] - 79s 101ms/step - loss: 0.2486 - accuracy: 0.2798 - val_loss: 0.2446 - val_accuracy: 0.2901\n",
      "Epoch 4/100\n",
      "782/782 [==============================] - 78s 100ms/step - loss: 0.2455 - accuracy: 0.2888 - val_loss: 0.2399 - val_accuracy: 0.3211\n",
      "Epoch 5/100\n",
      "782/782 [==============================] - 78s 100ms/step - loss: 0.2404 - accuracy: 0.3187 - val_loss: 0.2361 - val_accuracy: 0.3356\n",
      "Epoch 6/100\n",
      "782/782 [==============================] - 81s 103ms/step - loss: 0.2373 - accuracy: 0.3279 - val_loss: 0.2343 - val_accuracy: 0.3380\n",
      "Epoch 7/100\n",
      "782/782 [==============================] - 80s 103ms/step - loss: 0.2356 - accuracy: 0.3321 - val_loss: 0.2332 - val_accuracy: 0.3482\n",
      "Epoch 8/100\n",
      "782/782 [==============================] - 82s 105ms/step - loss: 0.2340 - accuracy: 0.3370 - val_loss: 0.2311 - val_accuracy: 0.3477\n",
      "Epoch 9/100\n",
      "782/782 [==============================] - 83s 106ms/step - loss: 0.2324 - accuracy: 0.3429 - val_loss: 0.2311 - val_accuracy: 0.3517\n",
      "Epoch 10/100\n",
      "782/782 [==============================] - 81s 104ms/step - loss: 0.2310 - accuracy: 0.3455 - val_loss: 0.2300 - val_accuracy: 0.3563\n",
      "Epoch 11/100\n",
      "782/782 [==============================] - 87s 111ms/step - loss: 0.2298 - accuracy: 0.3510 - val_loss: 0.2288 - val_accuracy: 0.3629\n",
      "Epoch 12/100\n",
      "782/782 [==============================] - 87s 112ms/step - loss: 0.2290 - accuracy: 0.3522 - val_loss: 0.2285 - val_accuracy: 0.3616\n",
      "Epoch 13/100\n",
      "782/782 [==============================] - 82s 105ms/step - loss: 0.2285 - accuracy: 0.3536 - val_loss: 0.2278 - val_accuracy: 0.3628\n",
      "Epoch 14/100\n",
      "782/782 [==============================] - 86s 110ms/step - loss: 0.2274 - accuracy: 0.3561 - val_loss: 0.2268 - val_accuracy: 0.3692\n",
      "Epoch 15/100\n",
      "782/782 [==============================] - 87s 111ms/step - loss: 0.2266 - accuracy: 0.3590 - val_loss: 0.2264 - val_accuracy: 0.3668\n",
      "Epoch 16/100\n",
      "782/782 [==============================] - 87s 111ms/step - loss: 0.2261 - accuracy: 0.3628 - val_loss: 0.2259 - val_accuracy: 0.3697\n",
      "Epoch 17/100\n",
      "782/782 [==============================] - 82s 105ms/step - loss: 0.2254 - accuracy: 0.3635 - val_loss: 0.2257 - val_accuracy: 0.3714\n",
      "Epoch 18/100\n",
      "782/782 [==============================] - 86s 110ms/step - loss: 0.2252 - accuracy: 0.3635 - val_loss: 0.2252 - val_accuracy: 0.3757\n",
      "Epoch 19/100\n",
      "782/782 [==============================] - 86s 110ms/step - loss: 0.2247 - accuracy: 0.3673 - val_loss: 0.2249 - val_accuracy: 0.3750\n",
      "Epoch 20/100\n",
      "782/782 [==============================] - 80s 102ms/step - loss: 0.2244 - accuracy: 0.3671 - val_loss: 0.2250 - val_accuracy: 0.3755\n",
      "Epoch 21/100\n",
      "782/782 [==============================] - 79s 101ms/step - loss: 0.2238 - accuracy: 0.3693 - val_loss: 0.2251 - val_accuracy: 0.3766\n",
      "Epoch 22/100\n",
      "782/782 [==============================] - 78s 100ms/step - loss: 0.2236 - accuracy: 0.3682 - val_loss: 0.2240 - val_accuracy: 0.3782\n",
      "Epoch 23/100\n",
      "782/782 [==============================] - 77s 99ms/step - loss: 0.2230 - accuracy: 0.3704 - val_loss: 0.2237 - val_accuracy: 0.3787\n",
      "Epoch 24/100\n",
      "782/782 [==============================] - 77s 98ms/step - loss: 0.2230 - accuracy: 0.3708 - val_loss: 0.2238 - val_accuracy: 0.3769\n",
      "Epoch 25/100\n",
      "782/782 [==============================] - 76s 97ms/step - loss: 0.2225 - accuracy: 0.3725 - val_loss: 0.2236 - val_accuracy: 0.3792\n",
      "Epoch 26/100\n",
      "782/782 [==============================] - 76s 98ms/step - loss: 0.2222 - accuracy: 0.3728 - val_loss: 0.2234 - val_accuracy: 0.3818\n",
      "Epoch 27/100\n",
      "782/782 [==============================] - 76s 97ms/step - loss: 0.2218 - accuracy: 0.3733 - val_loss: 0.2227 - val_accuracy: 0.3823\n",
      "Epoch 28/100\n",
      "782/782 [==============================] - 77s 98ms/step - loss: 0.2215 - accuracy: 0.3746 - val_loss: 0.2230 - val_accuracy: 0.3840\n",
      "Epoch 29/100\n",
      "782/782 [==============================] - 79s 100ms/step - loss: 0.2213 - accuracy: 0.3777 - val_loss: 0.2233 - val_accuracy: 0.3829\n",
      "Epoch 30/100\n",
      "782/782 [==============================] - 77s 99ms/step - loss: 0.2211 - accuracy: 0.3736 - val_loss: 0.2228 - val_accuracy: 0.3858\n",
      "Epoch 31/100\n",
      "782/782 [==============================] - 77s 98ms/step - loss: 0.2208 - accuracy: 0.3788 - val_loss: 0.2233 - val_accuracy: 0.3804\n",
      "Epoch 32/100\n",
      "782/782 [==============================] - 78s 99ms/step - loss: 0.2203 - accuracy: 0.3793 - val_loss: 0.2223 - val_accuracy: 0.3848\n",
      "Epoch 33/100\n",
      "782/782 [==============================] - 77s 98ms/step - loss: 0.2202 - accuracy: 0.3803 - val_loss: 0.2224 - val_accuracy: 0.3854\n",
      "Epoch 34/100\n",
      "782/782 [==============================] - 77s 99ms/step - loss: 0.2200 - accuracy: 0.3808 - val_loss: 0.2223 - val_accuracy: 0.3837\n",
      "Epoch 35/100\n",
      "782/782 [==============================] - 77s 99ms/step - loss: 0.2195 - accuracy: 0.3823 - val_loss: 0.2229 - val_accuracy: 0.3854\n",
      "Epoch 36/100\n",
      "782/782 [==============================] - 79s 101ms/step - loss: 0.2193 - accuracy: 0.3816 - val_loss: 0.2220 - val_accuracy: 0.3870\n",
      "Epoch 37/100\n",
      "782/782 [==============================] - 82s 105ms/step - loss: 0.2191 - accuracy: 0.3814 - val_loss: 0.2227 - val_accuracy: 0.3848\n",
      "Epoch 38/100\n",
      "782/782 [==============================] - 84s 107ms/step - loss: 0.2189 - accuracy: 0.3823 - val_loss: 0.2225 - val_accuracy: 0.3847\n",
      "Epoch 39/100\n",
      "782/782 [==============================] - 83s 106ms/step - loss: 0.2186 - accuracy: 0.3841 - val_loss: 0.2223 - val_accuracy: 0.3867\n",
      "Epoch 40/100\n",
      "782/782 [==============================] - 81s 104ms/step - loss: 0.2186 - accuracy: 0.3847 - val_loss: 0.2225 - val_accuracy: 0.3806\n",
      "Epoch 41/100\n",
      "782/782 [==============================] - 81s 104ms/step - loss: 0.2181 - accuracy: 0.3849 - val_loss: 0.2226 - val_accuracy: 0.3893\n",
      "Epoch 42/100\n",
      "782/782 [==============================] - 77s 99ms/step - loss: 0.2178 - accuracy: 0.3844 - val_loss: 0.2224 - val_accuracy: 0.3881\n",
      "Epoch 43/100\n",
      "782/782 [==============================] - 77s 99ms/step - loss: 0.2177 - accuracy: 0.3861 - val_loss: 0.2231 - val_accuracy: 0.3844\n",
      "Epoch 44/100\n",
      "782/782 [==============================] - 81s 104ms/step - loss: 0.2173 - accuracy: 0.3872 - val_loss: 0.2229 - val_accuracy: 0.3878\n",
      "Epoch 45/100\n",
      "782/782 [==============================] - 80s 102ms/step - loss: 0.2182 - accuracy: 0.3859 - val_loss: 0.2230 - val_accuracy: 0.3851\n",
      "Epoch 46/100\n",
      "782/782 [==============================] - 82s 105ms/step - loss: 0.2177 - accuracy: 0.3862 - val_loss: 0.2232 - val_accuracy: 0.3878\n"
     ]
    }
   ],
   "source": [
    "lstm.fit(epochs=100)"
   ]
  },
  {
   "cell_type": "code",
   "execution_count": 7,
   "metadata": {},
   "outputs": [
    {
     "data": {
      "image/png": "[encoded data removed]",
      "text/plain": [
       "<Figure size 432x288 with 2 Axes>"
      ]
     },
     "metadata": {
      "needs_background": "light"
     },
     "output_type": "display_data"
    }
   ],
   "source": [
    "lstm.save_model('./saved_models/simple_fm_lstm.h5')\n",
    "logger.plot()"
   ]
  },
  {
   "cell_type": "markdown",
   "metadata": {},
   "source": [
    "#### Bi-directional long short-term memory with highway layers (LSTM++)"
   ]
  },
  {
   "cell_type": "code",
   "execution_count": 8,
   "metadata": {},
   "outputs": [
    {
     "name": "stdout",
     "output_type": "stream",
     "text": [
      "Model: \"sequential_2\"\n",
      "_________________________________________________________________\n",
      "Layer (type)                 Output Shape              Param #   \n",
      "=================================================================\n",
      "bidirectional (Bidirectional (None, 256)               145408    \n",
      "_________________________________________________________________\n",
      "dropout_1 (Dropout)          (None, 256)               0         \n",
      "_________________________________________________________________\n",
      "dense_5 (Dense)              (None, 64)                16448     \n",
      "_________________________________________________________________\n",
      "highway_layer (HighwayLayer) (None, 64)                8320      \n",
      "_________________________________________________________________\n",
      "highway_layer_1 (HighwayLaye (None, 64)                8320      \n",
      "_________________________________________________________________\n",
      "highway_layer_2 (HighwayLaye (None, 64)                8320      \n",
      "_________________________________________________________________\n",
      "highway_layer_3 (HighwayLaye (None, 64)                8320      \n",
      "_________________________________________________________________\n",
      "highway_layer_4 (HighwayLaye (None, 64)                8320      \n",
      "_________________________________________________________________\n",
      "highway_layer_5 (HighwayLaye (None, 64)                8320      \n",
      "_________________________________________________________________\n",
      "dense_6 (Dense)              (None, 9)                 585       \n",
      "=================================================================\n",
      "Total params: 212,361\n",
      "Trainable params: 212,361\n",
      "Non-trainable params: 0\n",
      "_________________________________________________________________\n"
     ]
    }
   ],
   "source": [
    "# Setup callbacks for trainings\n",
    "logger = spiegel.estimator.TFEpochLogger()\n",
    "earlyStopping = tf.keras.callbacks.EarlyStopping(monitor='val_loss', patience=10)\n",
    "\n",
    "bi_lstm = spiegel.estimator.HwyBLSTM(trainFeatures.shape[-2:],\n",
    "                                     trainParams.shape[-1],\n",
    "                                     callbacks=[logger, earlyStopping],\n",
    "                                     highway_layers=6)\n",
    "\n",
    "bi_lstm.add_training_data(trainFeatures, trainParams)\n",
    "bi_lstm.add_testing_data(testFeatures, testParams)\n",
    "bi_lstm.model.summary()"
   ]
  },
  {
   "cell_type": "code",
   "execution_count": 9,
   "metadata": {},
   "outputs": [
    {
     "name": "stdout",
     "output_type": "stream",
     "text": [
      "Train for 782 steps, validate for 157 steps\n",
      "Epoch 1/100\n",
      "782/782 [==============================] - 53s 67ms/step - loss: 0.2758 - accuracy: 0.2295 - val_loss: 0.2547 - val_accuracy: 0.2671\n",
      "Epoch 2/100\n",
      "782/782 [==============================] - 47s 60ms/step - loss: 0.2541 - accuracy: 0.2682 - val_loss: 0.2496 - val_accuracy: 0.2977\n",
      "Epoch 3/100\n",
      "782/782 [==============================] - 47s 60ms/step - loss: 0.2489 - accuracy: 0.2943 - val_loss: 0.2455 - val_accuracy: 0.3085\n",
      "Epoch 4/100\n",
      "782/782 [==============================] - 47s 60ms/step - loss: 0.2460 - accuracy: 0.3056 - val_loss: 0.2427 - val_accuracy: 0.3242\n",
      "Epoch 5/100\n",
      "782/782 [==============================] - 47s 60ms/step - loss: 0.2434 - accuracy: 0.3161 - val_loss: 0.2413 - val_accuracy: 0.3195\n",
      "Epoch 6/100\n",
      "782/782 [==============================] - 48s 61ms/step - loss: 0.2415 - accuracy: 0.3210 - val_loss: 0.2393 - val_accuracy: 0.3293\n",
      "Epoch 7/100\n",
      "782/782 [==============================] - 53s 67ms/step - loss: 0.2398 - accuracy: 0.3239 - val_loss: 0.2379 - val_accuracy: 0.3336\n",
      "Epoch 8/100\n",
      "782/782 [==============================] - 47s 60ms/step - loss: 0.2383 - accuracy: 0.3290 - val_loss: 0.2366 - val_accuracy: 0.3355\n",
      "Epoch 9/100\n",
      "782/782 [==============================] - 47s 60ms/step - loss: 0.2372 - accuracy: 0.3318 - val_loss: 0.2356 - val_accuracy: 0.3376\n",
      "Epoch 10/100\n",
      "782/782 [==============================] - 47s 60ms/step - loss: 0.2361 - accuracy: 0.3341 - val_loss: 0.2351 - val_accuracy: 0.3397\n",
      "Epoch 11/100\n",
      "782/782 [==============================] - 47s 60ms/step - loss: 0.2351 - accuracy: 0.3389 - val_loss: 0.2339 - val_accuracy: 0.3456\n",
      "Epoch 12/100\n",
      "782/782 [==============================] - 48s 61ms/step - loss: 0.2342 - accuracy: 0.3424 - val_loss: 0.2328 - val_accuracy: 0.3474\n",
      "Epoch 13/100\n",
      "782/782 [==============================] - 50s 64ms/step - loss: 0.2332 - accuracy: 0.3460 - val_loss: 0.2321 - val_accuracy: 0.3503\n",
      "Epoch 14/100\n",
      "782/782 [==============================] - 53s 68ms/step - loss: 0.2324 - accuracy: 0.3492 - val_loss: 0.2315 - val_accuracy: 0.3500\n",
      "Epoch 15/100\n",
      "782/782 [==============================] - 53s 68ms/step - loss: 0.2317 - accuracy: 0.3509 - val_loss: 0.2309 - val_accuracy: 0.3529\n",
      "Epoch 16/100\n",
      "782/782 [==============================] - 51s 65ms/step - loss: 0.2310 - accuracy: 0.3509 - val_loss: 0.2304 - val_accuracy: 0.3569\n",
      "Epoch 17/100\n",
      "782/782 [==============================] - 48s 62ms/step - loss: 0.2304 - accuracy: 0.3521 - val_loss: 0.2301 - val_accuracy: 0.3569\n",
      "Epoch 18/100\n",
      "782/782 [==============================] - 53s 68ms/step - loss: 0.2299 - accuracy: 0.3544 - val_loss: 0.2298 - val_accuracy: 0.3582\n",
      "Epoch 19/100\n",
      "782/782 [==============================] - 52s 67ms/step - loss: 0.2293 - accuracy: 0.3571 - val_loss: 0.2292 - val_accuracy: 0.3611\n",
      "Epoch 20/100\n",
      "782/782 [==============================] - 50s 63ms/step - loss: 0.2289 - accuracy: 0.3590 - val_loss: 0.2295 - val_accuracy: 0.3618\n",
      "Epoch 21/100\n",
      "782/782 [==============================] - 51s 65ms/step - loss: 0.2285 - accuracy: 0.3616 - val_loss: 0.2283 - val_accuracy: 0.3617\n",
      "Epoch 22/100\n",
      "782/782 [==============================] - 48s 61ms/step - loss: 0.2280 - accuracy: 0.3600 - val_loss: 0.2284 - val_accuracy: 0.3640\n",
      "Epoch 23/100\n",
      "782/782 [==============================] - 49s 63ms/step - loss: 0.2278 - accuracy: 0.3606 - val_loss: 0.2279 - val_accuracy: 0.3684\n",
      "Epoch 24/100\n",
      "782/782 [==============================] - 50s 65ms/step - loss: 0.2273 - accuracy: 0.3639 - val_loss: 0.2274 - val_accuracy: 0.3669\n",
      "Epoch 25/100\n",
      "782/782 [==============================] - 51s 65ms/step - loss: 0.2269 - accuracy: 0.3655 - val_loss: 0.2271 - val_accuracy: 0.3658\n",
      "Epoch 26/100\n",
      "782/782 [==============================] - 50s 63ms/step - loss: 0.2265 - accuracy: 0.3635 - val_loss: 0.2269 - val_accuracy: 0.3691\n",
      "Epoch 27/100\n",
      "782/782 [==============================] - 51s 65ms/step - loss: 0.2263 - accuracy: 0.3662 - val_loss: 0.2270 - val_accuracy: 0.3680\n",
      "Epoch 28/100\n",
      "782/782 [==============================] - 45s 58ms/step - loss: 0.2260 - accuracy: 0.3689 - val_loss: 0.2268 - val_accuracy: 0.3691\n",
      "Epoch 29/100\n",
      "782/782 [==============================] - 45s 58ms/step - loss: 0.2258 - accuracy: 0.3693 - val_loss: 0.2264 - val_accuracy: 0.3713\n",
      "Epoch 30/100\n",
      "782/782 [==============================] - 45s 58ms/step - loss: 0.2255 - accuracy: 0.3708 - val_loss: 0.2263 - val_accuracy: 0.3677\n",
      "Epoch 31/100\n",
      "782/782 [==============================] - 46s 59ms/step - loss: 0.2253 - accuracy: 0.3722 - val_loss: 0.2263 - val_accuracy: 0.3693\n",
      "Epoch 32/100\n",
      "782/782 [==============================] - 51s 65ms/step - loss: 0.2250 - accuracy: 0.3718 - val_loss: 0.2259 - val_accuracy: 0.3727\n",
      "Epoch 33/100\n",
      "782/782 [==============================] - 54s 70ms/step - loss: 0.2248 - accuracy: 0.3728 - val_loss: 0.2258 - val_accuracy: 0.3696\n",
      "Epoch 34/100\n",
      "782/782 [==============================] - 55s 71ms/step - loss: 0.2244 - accuracy: 0.3714 - val_loss: 0.2257 - val_accuracy: 0.3730\n",
      "Epoch 35/100\n",
      "782/782 [==============================] - 54s 68ms/step - loss: 0.2241 - accuracy: 0.3739 - val_loss: 0.2257 - val_accuracy: 0.3721\n",
      "Epoch 36/100\n",
      "782/782 [==============================] - 48s 61ms/step - loss: 0.2240 - accuracy: 0.3744 - val_loss: 0.2258 - val_accuracy: 0.3721\n",
      "Epoch 37/100\n",
      "782/782 [==============================] - 45s 58ms/step - loss: 0.2238 - accuracy: 0.3733 - val_loss: 0.2254 - val_accuracy: 0.3698\n",
      "Epoch 38/100\n",
      "782/782 [==============================] - 45s 58ms/step - loss: 0.2237 - accuracy: 0.3759 - val_loss: 0.2253 - val_accuracy: 0.3728\n",
      "Epoch 39/100\n",
      "782/782 [==============================] - 46s 58ms/step - loss: 0.2234 - accuracy: 0.3773 - val_loss: 0.2254 - val_accuracy: 0.3766\n",
      "Epoch 40/100\n",
      "782/782 [==============================] - 48s 62ms/step - loss: 0.2235 - accuracy: 0.3766 - val_loss: 0.2256 - val_accuracy: 0.3743\n",
      "Epoch 41/100\n",
      "782/782 [==============================] - 46s 59ms/step - loss: 0.2231 - accuracy: 0.3774 - val_loss: 0.2252 - val_accuracy: 0.3760\n",
      "Epoch 42/100\n",
      "782/782 [==============================] - 50s 64ms/step - loss: 0.2228 - accuracy: 0.3777 - val_loss: 0.2251 - val_accuracy: 0.3773\n",
      "Epoch 43/100\n",
      "782/782 [==============================] - 49s 63ms/step - loss: 0.2226 - accuracy: 0.3779 - val_loss: 0.2250 - val_accuracy: 0.3814\n",
      "Epoch 44/100\n",
      "782/782 [==============================] - 47s 60ms/step - loss: 0.2225 - accuracy: 0.3798 - val_loss: 0.2250 - val_accuracy: 0.3766\n",
      "Epoch 45/100\n",
      "782/782 [==============================] - 48s 61ms/step - loss: 0.2222 - accuracy: 0.3804 - val_loss: 0.2251 - val_accuracy: 0.3752\n",
      "Epoch 46/100\n",
      "782/782 [==============================] - 48s 61ms/step - loss: 0.2221 - accuracy: 0.3797 - val_loss: 0.2248 - val_accuracy: 0.3846\n",
      "Epoch 47/100\n",
      "782/782 [==============================] - 53s 67ms/step - loss: 0.2220 - accuracy: 0.3818 - val_loss: 0.2253 - val_accuracy: 0.3772\n",
      "Epoch 48/100\n",
      "782/782 [==============================] - 52s 66ms/step - loss: 0.2217 - accuracy: 0.3819 - val_loss: 0.2248 - val_accuracy: 0.3785\n",
      "Epoch 49/100\n",
      "782/782 [==============================] - 51s 65ms/step - loss: 0.2216 - accuracy: 0.3835 - val_loss: 0.2249 - val_accuracy: 0.3792\n",
      "Epoch 50/100\n",
      "782/782 [==============================] - 48s 62ms/step - loss: 0.2214 - accuracy: 0.3824 - val_loss: 0.2246 - val_accuracy: 0.3784\n",
      "Epoch 51/100\n",
      "782/782 [==============================] - 46s 59ms/step - loss: 0.2213 - accuracy: 0.3828 - val_loss: 0.2247 - val_accuracy: 0.3815\n",
      "Epoch 52/100\n",
      "782/782 [==============================] - 47s 61ms/step - loss: 0.2211 - accuracy: 0.3828 - val_loss: 0.2248 - val_accuracy: 0.3776\n",
      "Epoch 53/100\n",
      "782/782 [==============================] - 46s 59ms/step - loss: 0.2209 - accuracy: 0.3842 - val_loss: 0.2247 - val_accuracy: 0.3808\n",
      "Epoch 54/100\n",
      "782/782 [==============================] - 48s 61ms/step - loss: 0.2208 - accuracy: 0.3847 - val_loss: 0.2247 - val_accuracy: 0.3803\n",
      "Epoch 55/100\n",
      "782/782 [==============================] - 47s 60ms/step - loss: 0.2207 - accuracy: 0.3850 - val_loss: 0.2250 - val_accuracy: 0.3771\n",
      "Epoch 56/100\n",
      "782/782 [==============================] - 46s 59ms/step - loss: 0.2205 - accuracy: 0.3845 - val_loss: 0.2249 - val_accuracy: 0.3791\n"
     ]
    },
    {
     "name": "stdout",
     "output_type": "stream",
     "text": [
      "Epoch 57/100\n",
      "782/782 [==============================] - 45s 58ms/step - loss: 0.2202 - accuracy: 0.3856 - val_loss: 0.2247 - val_accuracy: 0.3816\n",
      "Epoch 58/100\n",
      "782/782 [==============================] - 49s 63ms/step - loss: 0.2202 - accuracy: 0.3859 - val_loss: 0.2247 - val_accuracy: 0.3796\n",
      "Epoch 59/100\n",
      "782/782 [==============================] - 47s 60ms/step - loss: 0.2200 - accuracy: 0.3864 - val_loss: 0.2248 - val_accuracy: 0.3800\n",
      "Epoch 60/100\n",
      "782/782 [==============================] - 48s 62ms/step - loss: 0.2199 - accuracy: 0.3875 - val_loss: 0.2249 - val_accuracy: 0.3818\n"
     ]
    }
   ],
   "source": [
    "bi_lstm.fit(epochs=100)"
   ]
  },
  {
   "cell_type": "code",
   "execution_count": 10,
   "metadata": {},
   "outputs": [
    {
     "data": {
      "image/png": "[encoded data removed]",
      "text/plain": [
       "<Figure size 432x288 with 2 Axes>"
      ]
     },
     "metadata": {
      "needs_background": "light"
     },
     "output_type": "display_data"
    }
   ],
   "source": [
    "bi_lstm.save_model('./saved_models/simple_fm_bi_lstm.h5')\n",
    "logger.plot()"
   ]
  },
  {
   "cell_type": "markdown",
   "metadata": {},
   "source": [
    "#### Convolutional Neural Network (CNN)"
   ]
  },
  {
   "cell_type": "code",
   "execution_count": 13,
   "metadata": {},
   "outputs": [],
   "source": [
    "trainFeatures = np.load('./data_simple_FM_stft/train_features.npy')\n",
    "trainParams = np.load('./data_simple_FM_stft/train_patches.npy')\n",
    "testFeatures = np.load('./data_simple_FM_stft/test_features.npy')\n",
    "testParams = np.load('./data_simple_FM_stft/test_patches.npy')    \n",
    "\n",
    "# Create \"STFT Images\" with one channel for 2D CNN\n",
    "trainFeatures = trainFeatures.reshape(trainFeatures.shape[0], trainFeatures.shape[1], trainFeatures.shape[2], 1)\n",
    "testFeatures = testFeatures.reshape(testFeatures.shape[0], testFeatures.shape[1], testFeatures.shape[2], 1)"
   ]
  },
  {
   "cell_type": "code",
   "execution_count": 14,
   "metadata": {},
   "outputs": [
    {
     "name": "stdout",
     "output_type": "stream",
     "text": [
      "Model: \"sequential_3\"\n",
      "_________________________________________________________________\n",
      "Layer (type)                 Output Shape              Param #   \n",
      "=================================================================\n",
      "conv2d (Conv2D)              (None, 87, 128, 32)       320       \n",
      "_________________________________________________________________\n",
      "conv2d_1 (Conv2D)            (None, 43, 63, 71)        20519     \n",
      "_________________________________________________________________\n",
      "conv2d_2 (Conv2D)            (None, 21, 20, 128)       109184    \n",
      "_________________________________________________________________\n",
      "conv2d_3 (Conv2D)            (None, 10, 9, 128)        147584    \n",
      "_________________________________________________________________\n",
      "conv2d_4 (Conv2D)            (None, 4, 4, 128)         147584    \n",
      "_________________________________________________________________\n",
      "conv2d_5 (Conv2D)            (None, 2, 1, 128)         147584    \n",
      "_________________________________________________________________\n",
      "dropout_2 (Dropout)          (None, 2, 1, 128)         0         \n",
      "_________________________________________________________________\n",
      "flatten (Flatten)            (None, 256)               0         \n",
      "_________________________________________________________________\n",
      "dense_7 (Dense)              (None, 9)                 2313      \n",
      "=================================================================\n",
      "Total params: 575,088\n",
      "Trainable params: 575,088\n",
      "Non-trainable params: 0\n",
      "_________________________________________________________________\n"
     ]
    }
   ],
   "source": [
    "# Setup callbacks for trainings\n",
    "logger = spiegel.estimator.TFEpochLogger()\n",
    "earlyStopping = tf.keras.callbacks.EarlyStopping(monitor='val_loss', patience=10)\n",
    "\n",
    "cnn = spiegel.estimator.Conv6(trainFeatures.shape[1:],\n",
    "                              trainParams.shape[-1],\n",
    "                              callbacks=[logger, earlyStopping])\n",
    "\n",
    "cnn.add_training_data(trainFeatures, trainParams)\n",
    "cnn.add_testing_data(testFeatures, testParams)\n",
    "cnn.model.summary()"
   ]
  },
  {
   "cell_type": "code",
   "execution_count": 15,
   "metadata": {},
   "outputs": [
    {
     "name": "stdout",
     "output_type": "stream",
     "text": [
      "Train for 782 steps, validate for 157 steps\n",
      "Epoch 1/100\n",
      "782/782 [==============================] - 368s 471ms/step - loss: 0.2673 - accuracy: 0.2344 - val_loss: 0.2523 - val_accuracy: 0.2589\n",
      "Epoch 2/100\n",
      "782/782 [==============================] - 359s 459ms/step - loss: 0.2509 - accuracy: 0.2691 - val_loss: 0.2453 - val_accuracy: 0.2832\n",
      "Epoch 3/100\n",
      "782/782 [==============================] - 362s 462ms/step - loss: 0.2459 - accuracy: 0.2857 - val_loss: 0.2426 - val_accuracy: 0.2901\n",
      "Epoch 4/100\n",
      "782/782 [==============================] - 363s 464ms/step - loss: 0.2432 - accuracy: 0.2928 - val_loss: 0.2414 - val_accuracy: 0.2936\n",
      "Epoch 5/100\n",
      "782/782 [==============================] - 362s 463ms/step - loss: 0.2412 - accuracy: 0.2983 - val_loss: 0.2399 - val_accuracy: 0.2994\n",
      "Epoch 6/100\n",
      "782/782 [==============================] - 362s 463ms/step - loss: 0.2397 - accuracy: 0.3024 - val_loss: 0.2395 - val_accuracy: 0.3013\n",
      "Epoch 7/100\n",
      "782/782 [==============================] - 361s 462ms/step - loss: 0.2384 - accuracy: 0.3069 - val_loss: 0.2393 - val_accuracy: 0.3046\n",
      "Epoch 8/100\n",
      "782/782 [==============================] - 361s 461ms/step - loss: 0.2372 - accuracy: 0.3099 - val_loss: 0.2396 - val_accuracy: 0.3000\n",
      "Epoch 9/100\n",
      "782/782 [==============================] - 362s 463ms/step - loss: 0.2361 - accuracy: 0.3112 - val_loss: 0.2398 - val_accuracy: 0.3040\n",
      "Epoch 10/100\n",
      "782/782 [==============================] - 359s 459ms/step - loss: 0.2350 - accuracy: 0.3123 - val_loss: 0.2408 - val_accuracy: 0.2993\n",
      "Epoch 11/100\n",
      "782/782 [==============================] - 359s 459ms/step - loss: 0.2337 - accuracy: 0.3173 - val_loss: 0.2414 - val_accuracy: 0.3009\n",
      "Epoch 12/100\n",
      "782/782 [==============================] - 361s 461ms/step - loss: 0.2325 - accuracy: 0.3219 - val_loss: 0.2424 - val_accuracy: 0.2999\n",
      "Epoch 13/100\n",
      "782/782 [==============================] - 363s 464ms/step - loss: 0.2314 - accuracy: 0.3236 - val_loss: 0.2442 - val_accuracy: 0.2948\n",
      "Epoch 14/100\n",
      "782/782 [==============================] - 361s 461ms/step - loss: 0.2302 - accuracy: 0.3284 - val_loss: 0.2450 - val_accuracy: 0.2978\n",
      "Epoch 15/100\n",
      "782/782 [==============================] - 360s 460ms/step - loss: 0.2286 - accuracy: 0.3325 - val_loss: 0.2472 - val_accuracy: 0.2955\n",
      "Epoch 16/100\n",
      "782/782 [==============================] - 376s 480ms/step - loss: 0.2272 - accuracy: 0.3383 - val_loss: 0.2496 - val_accuracy: 0.2899\n",
      "Epoch 17/100\n",
      "782/782 [==============================] - 360s 460ms/step - loss: 0.2262 - accuracy: 0.3406 - val_loss: 0.2501 - val_accuracy: 0.2962\n"
     ]
    }
   ],
   "source": [
    "cnn.fit(epochs=100)"
   ]
  },
  {
   "cell_type": "code",
   "execution_count": 16,
   "metadata": {},
   "outputs": [
    {
     "data": {
      "image/png": "[encoded data removed]",
      "text/plain": [
       "<Figure size 432x288 with 2 Axes>"
      ]
     },
     "metadata": {
      "needs_background": "light"
     },
     "output_type": "display_data"
    }
   ],
   "source": [
    "cnn.save_model('./saved_models/simple_fm_cnn.h5')\n",
    "logger.plot()"
   ]
  }
 ],
 "metadata": {
  "kernelspec": {
   "display_name": "Python 3",
   "language": "python",
   "name": "python3"
  },
  "language_info": {
   "codemirror_mode": {
    "name": "ipython",
    "version": 3
   },
   "file_extension": ".py",
   "mimetype": "text/x-python",
   "name": "python",
   "nbconvert_exporter": "python",
   "pygments_lexer": "ipython3",
   "version": "3.7.5"
  }
 },
 "nbformat": 4,
 "nbformat_minor": 4
}
