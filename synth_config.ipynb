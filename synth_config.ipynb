{
 "cells": [
  {
   "cell_type": "markdown",
   "metadata": {},
   "source": [
    "## Synthesizer Configuration"
   ]
  },
  {
   "cell_type": "markdown",
   "metadata": {},
   "source": [
    "In this notebook we setup Dexed for the experiment by selecting parameters to automatically program. To simplify the experiment, we'll only use a small subset of all the available parameters."
   ]
  },
  {
   "cell_type": "code",
   "execution_count": 1,
   "metadata": {
    "tags": []
   },
   "outputs": [],
   "source": [
    "import spiegelib as spgl\n",
    "import librenderman as rm"
   ]
  },
  {
   "cell_type": "code",
   "execution_count": 2,
   "metadata": {},
   "outputs": [
    {
     "name": "stdout",
     "output_type": "stream",
     "text": [
      "True\n"
     ]
    }
   ],
   "source": [
    "# sanity test that underlying renderman library is working\n",
    "engine = rm.RenderEngine(44100, 512, 512)\n",
    "vst_path = \"/Library/Audio/Plug-Ins/Components/Dexed.component\"\n",
    "print(engine.load_plugin(vst_path))"
   ]
  },
  {
   "cell_type": "markdown",
   "metadata": {},
   "source": [
    "Load Dexed into an instance of SynthVST"
   ]
  },
  {
   "cell_type": "code",
   "execution_count": 3,
   "metadata": {},
   "outputs": [],
   "source": [
    "#wasn't able to get VST3 working, but AU seems to work fine\n",
    "synth = spgl.synth.SynthVST()\n",
    "synth.load_plugin(\"/Library/Audio/Plug-Ins/Components/Dexed.component\")"
   ]
  },
  {
   "cell_type": "markdown",
   "metadata": {},
   "source": [
    "Dexed is an emulation of the Yamaha DX7 which contains six different operators that can be arranged in various ways to create complex sounds. Dexed has 155 parameters for controlling these operators and other global options and FX. In order to simplify this experiment we're going to focus on a small subset of these parameters and treat Dexed as a simple two-operator FM synthesizer. In order to do that, we will override and freeze most of the other parameters.\n",
    "\n",
    "To start, we'll save the parameter values to a JSON file showing the parameter ID, values, and a short description of all the available parameters. Parameters can also be flagged as overridden in the JSON file. This allows parameter configurations to be saved, modified, and reloaded."
   ]
  },
  {
   "cell_type": "code",
   "execution_count": 4,
   "metadata": {},
   "outputs": [],
   "source": [
    "synth.save_state(\"./synth_params/dexed_simple_fm_init.json\")"
   ]
  },
  {
   "cell_type": "markdown",
   "metadata": {},
   "source": [
    "We can now manually edit the JSON file and reload it to update our synthesizer configuration. We can also programmatically\n",
    "set overridden parameters and save a new synthesizer configuration file. We'll do the latter.\n",
    "\n",
    "All parameters have a range between 0.0 and 1.0"
   ]
  },
  {
   "cell_type": "code",
   "execution_count": 5,
   "metadata": {},
   "outputs": [],
   "source": [
    "# The algorithm sets the arrangement of the FM operators. \n",
    "# There are 32 differen arrangements available in Dexed.\n",
    "# This selects the first algorithm. This algorithm sets\n",
    "# the second operator to frequency modulate the first.\n",
    "algorithm_number = 1\n",
    "alg = (1.0 / 32.0) * float(algorithm_number - 1) + 0.001\n",
    "\n",
    "overridden_parameters = [\n",
    "    (0, 1.0), # Filter Cutoff (Fully open)\n",
    "    (1, 0.0), # Filter Resonance\n",
    "    (2, 1.0), # Output Gain \n",
    "    (3, 0.5), # Master Tuning (Center is 0)\n",
    "    (4, alg), # Operator configuration\n",
    "    (5, 0.0), # Feedback\n",
    "    (6, 1.0), # Key Sync Oscillators \n",
    "    (7, 0.0), # LFO Speed\n",
    "    (8, 0.0), # LFO Delay\n",
    "    (9, 0.0), # LFO Pitch Modulation Depth\n",
    "    (10, 0.0),# LFO Amplitude Modulation Depth\n",
    "    (11, 0.0),# LFO Key Sync\n",
    "    (12, 0.0),# LFO Waveform\n",
    "    (13, 0.5),# Middle C Tuning\n",
    "]\n",
    "\n",
    "# Turn off all pitch modulation parameters\n",
    "overridden_parameters.extend([(i, 0.0) for i in range(14, 23)])\n",
    "\n",
    "# Turn Operator 1 into a simple sine wave with no envelope\n",
    "overridden_parameters.extend([\n",
    "    (23, 0.9), # Operator 1 Attack Rate\n",
    "    (24, 0.9), # Operator 1 Decay Rate\n",
    "    (25, 0.9), # Operator 1 Sustain Rate\n",
    "    (26, 0.9), # Operator 1 Release Rate\n",
    "    (27, 1.0), # Operator 1 Attack Level\n",
    "    (28, 1.0), # Operator 1 Decay Level\n",
    "    (29, 1.0), # Operator 1 Sustain Level\n",
    "    (30, 0.0), # Operator 1 Release Level\n",
    "    (31, 1.0), # Operator 1 Gain\n",
    "    (32, 0.0), # Operator 1 Mode (1.0 is Fixed Frequency)\n",
    "    (33, 0.5), # Operator 1 Coarse Tuning\n",
    "    (34, 0.0), # Operator 1 Fine Tuning\n",
    "    (35, 0.5), # Operator 1 Detune\n",
    "    (36, 0.0), # Operator 1 Env Scaling Param\n",
    "    (37, 0.0), # Operator 1 Env Scaling Param\n",
    "    (38, 0.0), # Operator 1 Env Scaling Param\n",
    "    (39, 0.0), # Operator 1 Env Scaling Param\n",
    "    (40, 0.0), # Operator 1 Env Scaling Param\n",
    "    (41, 0.0), # Operator 1 Env Scaling Param\n",
    "    (42, 0.0), # Operator 1 Mod Sensitivity\n",
    "    (43, 0.0), # Operator 1 Key Velocity\n",
    "    (44, 1.0), # Operator 1 On/Off switch\n",
    "])\n",
    "\n",
    "# Override some of Operator 2 parameters\n",
    "overridden_parameters.extend([\n",
    "    (45, 0.9), # Operator 2 Attack Rate (No attack on operator 2)\n",
    "    (49, 1.0), # Operator 2 Attack Level\n",
    "    (53, 1.0), # Operator 2 Gain (Operator 2 always outputs)\n",
    "    (54, 0.0), # Operator 1 Mode (1.0 is Fixed Frequency)\n",
    "    (58, 0.0), # Operator 1 Env Scaling Param\n",
    "    (59, 0.0), # Operator 1 Env Scaling Param\n",
    "    (60, 0.0), # Operator 1 Env Scaling Param\n",
    "    (61, 0.0), # Operator 1 Env Scaling Param\n",
    "    (62, 0.0), # Operator 1 Env Scaling Param\n",
    "    (63, 0.0), # Operator 1 Env Scaling Param\n",
    "    (64, 0.0), # Operator 1 Mod Sensitivity\n",
    "    (65, 0.0), # Operator 1 Key Velocity\n",
    "    (66, 1.0), # Operator 1 On/Off switch\n",
    "])\n",
    "\n",
    "# Override operators 3 through 6\n",
    "overridden_parameters.extend([(i, 0.0) for i in range(67, 155)])\n",
    "\n",
    "# Set overridden parameters in synth\n",
    "synth.set_overridden_parameters(overridden_parameters)\n"
   ]
  },
  {
   "cell_type": "markdown",
   "metadata": {},
   "source": [
    "Now we have a synthesizer configuration setup that turns Dexed into a simple two-operator FM synthesizer. Only nine parameters have been left un-overridden. These parameters control the pitch and envelope parameters of operator two. Let's save that configuration so we can reuse it throughout this experiment."
   ]
  },
  {
   "cell_type": "code",
   "execution_count": 6,
   "metadata": {},
   "outputs": [],
   "source": [
    "synth.save_state(\"./synth_params/dexed_simple_fm.json\")"
   ]
  },
  {
   "cell_type": "code",
   "execution_count": null,
   "metadata": {},
   "outputs": [],
   "source": []
  }
 ],
 "metadata": {
  "kernelspec": {
   "display_name": "Python 3",
   "language": "python",
   "name": "python3"
  },
  "language_info": {
   "codemirror_mode": {
    "name": "ipython",
    "version": 3
   },
   "file_extension": ".py",
   "mimetype": "text/x-python",
   "name": "python",
   "nbconvert_exporter": "python",
   "pygments_lexer": "ipython3",
   "version": "3.7.16"
  }
 },
 "nbformat": 4,
 "nbformat_minor": 4
}
