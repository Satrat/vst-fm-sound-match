{
 "cells": [
  {
   "cell_type": "markdown",
   "metadata": {},
   "source": [
    "## Train Deep Learning Models"
   ]
  },
  {
   "cell_type": "markdown",
   "metadata": {},
   "source": [
    "In this notebook, we train a set of deep learning models using data generated in the dataset_generation notebook. The input training data for each model is the audio features extracted for a synth patch, and the ground truth data is the parameter values for that synth patch. Each trained model is saved in the saved_models folder."
   ]
  },
  {
   "cell_type": "code",
   "execution_count": 1,
   "metadata": {},
   "outputs": [],
   "source": [
    "import spiegelib as spgl\n",
    "import numpy as np\n",
    "import tensorflow as tf"
   ]
  },
  {
   "cell_type": "markdown",
   "metadata": {},
   "source": [
    "#### Multi-Layer Perceptron"
   ]
  },
  {
   "cell_type": "markdown",
   "metadata": {},
   "source": [
    "Her we train a relatively basic fully connected MLP model. The audio features, which are in numpy arrays with time slices, need to be flattened prior to being fed into the network."
   ]
  },
  {
   "cell_type": "code",
   "execution_count": 2,
   "metadata": {},
   "outputs": [
    {
     "name": "stdout",
     "output_type": "stream",
     "text": [
      "Model: \"sequential\"\n",
      "_________________________________________________________________\n",
      "Layer (type)                 Output Shape              Param #   \n",
      "=================================================================\n",
      "dense (Dense)                (None, 50)                28650     \n",
      "_________________________________________________________________\n",
      "dense_1 (Dense)              (None, 40)                2040      \n",
      "_________________________________________________________________\n",
      "dense_2 (Dense)              (None, 30)                1230      \n",
      "_________________________________________________________________\n",
      "dense_3 (Dense)              (None, 9)                 279       \n",
      "=================================================================\n",
      "Total params: 32,199\n",
      "Trainable params: 32,199\n",
      "Non-trainable params: 0\n",
      "_________________________________________________________________\n"
     ]
    }
   ],
   "source": [
    "trainFeatures = np.load('./data_simple_FM_mfcc/train_features.npy')\n",
    "trainParams = np.load('./data_simple_FM_mfcc/train_patches.npy')\n",
    "testFeatures = np.load('./data_simple_FM_mfcc/test_features.npy')\n",
    "testParams = np.load('./data_simple_FM_mfcc/test_patches.npy')\n",
    "\n",
    "# Flatten feature time slices\n",
    "trainFeatures = trainFeatures.reshape(trainFeatures.shape[0], -1)\n",
    "testFeatures = testFeatures.reshape(testFeatures.shape[0], -1)\n",
    "\n",
    "# Setup callbacks for trainings\n",
    "logger = spgl.estimator.TFEpochLogger()\n",
    "earlyStopping = tf.keras.callbacks.EarlyStopping(monitor='val_loss', patience=10)\n",
    "\n",
    "# Instantiate MLP Model\n",
    "mlp = spgl.estimator.MLP((trainFeatures.shape[-1],),\n",
    "                            trainParams.shape[-1],\n",
    "                            callbacks=[logger, earlyStopping])\n",
    "\n",
    "# Add training and validation data\n",
    "mlp.add_training_data(trainFeatures, trainParams)\n",
    "mlp.add_testing_data(testFeatures, testParams)\n",
    "mlp.model.summary()"
   ]
  },
  {
   "cell_type": "code",
   "execution_count": 3,
   "metadata": {},
   "outputs": [
    {
     "name": "stdout",
     "output_type": "stream",
     "text": [
      "Train for 782 steps, validate for 157 steps\n",
      "Epoch 1/100\n",
      "782/782 [==============================] - 2s 2ms/step - loss: 0.2686 - accuracy: 0.2484 - val_loss: 0.2542 - val_accuracy: 0.2744\n",
      "Epoch 2/100\n",
      "782/782 [==============================] - 1s 2ms/step - loss: 0.2511 - accuracy: 0.2770 - val_loss: 0.2508 - val_accuracy: 0.2877\n",
      "Epoch 3/100\n",
      "782/782 [==============================] - 1s 2ms/step - loss: 0.2480 - accuracy: 0.2896 - val_loss: 0.2481 - val_accuracy: 0.2973\n",
      "Epoch 4/100\n",
      "782/782 [==============================] - 1s 2ms/step - loss: 0.2457 - accuracy: 0.3006 - val_loss: 0.2472 - val_accuracy: 0.3000\n",
      "Epoch 5/100\n",
      "782/782 [==============================] - 1s 2ms/step - loss: 0.2439 - accuracy: 0.3100 - val_loss: 0.2469 - val_accuracy: 0.3084\n",
      "Epoch 6/100\n",
      "782/782 [==============================] - 1s 2ms/step - loss: 0.2425 - accuracy: 0.3129 - val_loss: 0.2450 - val_accuracy: 0.3117\n",
      "Epoch 7/100\n",
      "782/782 [==============================] - 1s 2ms/step - loss: 0.2414 - accuracy: 0.3179 - val_loss: 0.2433 - val_accuracy: 0.3180\n",
      "Epoch 8/100\n",
      "782/782 [==============================] - 1s 2ms/step - loss: 0.2406 - accuracy: 0.3175 - val_loss: 0.2424 - val_accuracy: 0.3161\n",
      "Epoch 9/100\n",
      "782/782 [==============================] - 1s 2ms/step - loss: 0.2398 - accuracy: 0.3201 - val_loss: 0.2417 - val_accuracy: 0.3182\n",
      "Epoch 10/100\n",
      "782/782 [==============================] - 1s 2ms/step - loss: 0.2393 - accuracy: 0.3233 - val_loss: 0.2402 - val_accuracy: 0.3236\n",
      "Epoch 11/100\n",
      "782/782 [==============================] - 1s 2ms/step - loss: 0.2387 - accuracy: 0.3252 - val_loss: 0.2412 - val_accuracy: 0.3235\n",
      "Epoch 12/100\n",
      "782/782 [==============================] - 1s 2ms/step - loss: 0.2382 - accuracy: 0.3269 - val_loss: 0.2406 - val_accuracy: 0.3230\n",
      "Epoch 13/100\n",
      "782/782 [==============================] - 1s 2ms/step - loss: 0.2377 - accuracy: 0.3266 - val_loss: 0.2396 - val_accuracy: 0.3235\n",
      "Epoch 14/100\n",
      "782/782 [==============================] - 1s 2ms/step - loss: 0.2373 - accuracy: 0.3281 - val_loss: 0.2391 - val_accuracy: 0.3246\n",
      "Epoch 15/100\n",
      "782/782 [==============================] - 1s 2ms/step - loss: 0.2368 - accuracy: 0.3300 - val_loss: 0.2391 - val_accuracy: 0.3264\n",
      "Epoch 16/100\n",
      "782/782 [==============================] - 1s 2ms/step - loss: 0.2366 - accuracy: 0.3300 - val_loss: 0.2391 - val_accuracy: 0.3280\n",
      "Epoch 17/100\n",
      "782/782 [==============================] - 1s 2ms/step - loss: 0.2362 - accuracy: 0.3323 - val_loss: 0.2390 - val_accuracy: 0.3273\n",
      "Epoch 18/100\n",
      "782/782 [==============================] - 1s 2ms/step - loss: 0.2358 - accuracy: 0.3319 - val_loss: 0.2385 - val_accuracy: 0.3292\n",
      "Epoch 19/100\n",
      "782/782 [==============================] - 1s 2ms/step - loss: 0.2355 - accuracy: 0.3336 - val_loss: 0.2387 - val_accuracy: 0.3280\n",
      "Epoch 20/100\n",
      "782/782 [==============================] - 1s 2ms/step - loss: 0.2353 - accuracy: 0.3349 - val_loss: 0.2382 - val_accuracy: 0.3264\n",
      "Epoch 21/100\n",
      "782/782 [==============================] - 1s 2ms/step - loss: 0.2349 - accuracy: 0.3345 - val_loss: 0.2378 - val_accuracy: 0.3296\n",
      "Epoch 22/100\n",
      "782/782 [==============================] - 1s 2ms/step - loss: 0.2346 - accuracy: 0.3364 - val_loss: 0.2372 - val_accuracy: 0.3254\n",
      "Epoch 23/100\n",
      "782/782 [==============================] - 1s 2ms/step - loss: 0.2344 - accuracy: 0.3359 - val_loss: 0.2379 - val_accuracy: 0.3255\n",
      "Epoch 24/100\n",
      "782/782 [==============================] - 1s 2ms/step - loss: 0.2341 - accuracy: 0.3380 - val_loss: 0.2374 - val_accuracy: 0.3287\n",
      "Epoch 25/100\n",
      "782/782 [==============================] - 1s 2ms/step - loss: 0.2339 - accuracy: 0.3384 - val_loss: 0.2375 - val_accuracy: 0.3277\n",
      "Epoch 26/100\n",
      "782/782 [==============================] - 1s 2ms/step - loss: 0.2336 - accuracy: 0.3383 - val_loss: 0.2372 - val_accuracy: 0.3305\n",
      "Epoch 27/100\n",
      "782/782 [==============================] - 1s 2ms/step - loss: 0.2335 - accuracy: 0.3384 - val_loss: 0.2367 - val_accuracy: 0.3291\n",
      "Epoch 28/100\n",
      "782/782 [==============================] - 1s 2ms/step - loss: 0.2332 - accuracy: 0.3396 - val_loss: 0.2365 - val_accuracy: 0.3297\n",
      "Epoch 29/100\n",
      "782/782 [==============================] - 1s 2ms/step - loss: 0.2330 - accuracy: 0.3398 - val_loss: 0.2360 - val_accuracy: 0.3273\n",
      "Epoch 30/100\n",
      "782/782 [==============================] - 1s 2ms/step - loss: 0.2328 - accuracy: 0.3401 - val_loss: 0.2360 - val_accuracy: 0.3293\n",
      "Epoch 31/100\n",
      "782/782 [==============================] - 1s 2ms/step - loss: 0.2326 - accuracy: 0.3393 - val_loss: 0.2358 - val_accuracy: 0.3302\n",
      "Epoch 32/100\n",
      "782/782 [==============================] - 1s 2ms/step - loss: 0.2324 - accuracy: 0.3413 - val_loss: 0.2348 - val_accuracy: 0.3349\n",
      "Epoch 33/100\n",
      "782/782 [==============================] - 1s 2ms/step - loss: 0.2322 - accuracy: 0.3410 - val_loss: 0.2355 - val_accuracy: 0.3330\n",
      "Epoch 34/100\n",
      "782/782 [==============================] - 1s 2ms/step - loss: 0.2321 - accuracy: 0.3406 - val_loss: 0.2354 - val_accuracy: 0.3333\n",
      "Epoch 35/100\n",
      "782/782 [==============================] - 1s 2ms/step - loss: 0.2319 - accuracy: 0.3431 - val_loss: 0.2349 - val_accuracy: 0.3329\n",
      "Epoch 36/100\n",
      "782/782 [==============================] - 1s 2ms/step - loss: 0.2317 - accuracy: 0.3413 - val_loss: 0.2354 - val_accuracy: 0.3319\n",
      "Epoch 37/100\n",
      "782/782 [==============================] - 1s 2ms/step - loss: 0.2315 - accuracy: 0.3425 - val_loss: 0.2351 - val_accuracy: 0.3342\n",
      "Epoch 38/100\n",
      "782/782 [==============================] - 1s 2ms/step - loss: 0.2314 - accuracy: 0.3432 - val_loss: 0.2346 - val_accuracy: 0.3323\n",
      "Epoch 39/100\n",
      "782/782 [==============================] - 1s 2ms/step - loss: 0.2313 - accuracy: 0.3432 - val_loss: 0.2344 - val_accuracy: 0.3330\n",
      "Epoch 40/100\n",
      "782/782 [==============================] - 1s 2ms/step - loss: 0.2312 - accuracy: 0.3432 - val_loss: 0.2349 - val_accuracy: 0.3323\n",
      "Epoch 41/100\n",
      "782/782 [==============================] - 1s 2ms/step - loss: 0.2311 - accuracy: 0.3440 - val_loss: 0.2349 - val_accuracy: 0.3327\n",
      "Epoch 42/100\n",
      "782/782 [==============================] - 1s 2ms/step - loss: 0.2310 - accuracy: 0.3436 - val_loss: 0.2344 - val_accuracy: 0.3355\n",
      "Epoch 43/100\n",
      "782/782 [==============================] - 1s 2ms/step - loss: 0.2309 - accuracy: 0.3435 - val_loss: 0.2340 - val_accuracy: 0.3343\n",
      "Epoch 44/100\n",
      "782/782 [==============================] - 1s 2ms/step - loss: 0.2307 - accuracy: 0.3445 - val_loss: 0.2345 - val_accuracy: 0.3352\n",
      "Epoch 45/100\n",
      "782/782 [==============================] - 1s 2ms/step - loss: 0.2306 - accuracy: 0.3440 - val_loss: 0.2349 - val_accuracy: 0.3347\n",
      "Epoch 46/100\n",
      "782/782 [==============================] - 1s 2ms/step - loss: 0.2306 - accuracy: 0.3454 - val_loss: 0.2350 - val_accuracy: 0.3342\n",
      "Epoch 47/100\n",
      "782/782 [==============================] - 1s 2ms/step - loss: 0.2303 - accuracy: 0.3436 - val_loss: 0.2340 - val_accuracy: 0.3375\n",
      "Epoch 48/100\n",
      "782/782 [==============================] - 1s 2ms/step - loss: 0.2303 - accuracy: 0.3443 - val_loss: 0.2345 - val_accuracy: 0.3381\n",
      "Epoch 49/100\n",
      "782/782 [==============================] - 1s 2ms/step - loss: 0.2302 - accuracy: 0.3458 - val_loss: 0.2345 - val_accuracy: 0.3346\n",
      "Epoch 50/100\n",
      "782/782 [==============================] - 1s 2ms/step - loss: 0.2300 - accuracy: 0.3457 - val_loss: 0.2351 - val_accuracy: 0.3356\n",
      "Epoch 51/100\n",
      "782/782 [==============================] - 1s 2ms/step - loss: 0.2300 - accuracy: 0.3455 - val_loss: 0.2344 - val_accuracy: 0.3379\n",
      "Epoch 52/100\n",
      "782/782 [==============================] - 1s 2ms/step - loss: 0.2299 - accuracy: 0.3459 - val_loss: 0.2347 - val_accuracy: 0.3350\n",
      "Epoch 53/100\n",
      "782/782 [==============================] - 1s 2ms/step - loss: 0.2299 - accuracy: 0.3456 - val_loss: 0.2337 - val_accuracy: 0.3402\n",
      "Epoch 54/100\n",
      "782/782 [==============================] - 1s 2ms/step - loss: 0.2297 - accuracy: 0.3459 - val_loss: 0.2346 - val_accuracy: 0.3360\n",
      "Epoch 55/100\n",
      "782/782 [==============================] - 1s 2ms/step - loss: 0.2298 - accuracy: 0.3479 - val_loss: 0.2342 - val_accuracy: 0.3397\n",
      "Epoch 56/100\n",
      "782/782 [==============================] - 1s 2ms/step - loss: 0.2297 - accuracy: 0.3464 - val_loss: 0.2344 - val_accuracy: 0.3369\n",
      "Epoch 57/100\n",
      "782/782 [==============================] - 1s 2ms/step - loss: 0.2297 - accuracy: 0.3458 - val_loss: 0.2340 - val_accuracy: 0.3364\n",
      "Epoch 58/100\n",
      "782/782 [==============================] - 1s 2ms/step - loss: 0.2295 - accuracy: 0.3469 - val_loss: 0.2342 - val_accuracy: 0.3359\n",
      "Epoch 59/100\n",
      "782/782 [==============================] - 1s 2ms/step - loss: 0.2295 - accuracy: 0.3473 - val_loss: 0.2345 - val_accuracy: 0.3376\n",
      "Epoch 60/100\n",
      "782/782 [==============================] - 1s 2ms/step - loss: 0.2294 - accuracy: 0.3466 - val_loss: 0.2343 - val_accuracy: 0.3362\n",
      "Epoch 61/100\n",
      "782/782 [==============================] - 1s 2ms/step - loss: 0.2293 - accuracy: 0.3482 - val_loss: 0.2339 - val_accuracy: 0.3421\n",
      "Epoch 62/100\n",
      "782/782 [==============================] - 1s 2ms/step - loss: 0.2292 - accuracy: 0.3484 - val_loss: 0.2345 - val_accuracy: 0.3385\n",
      "Epoch 63/100\n",
      "782/782 [==============================] - 1s 2ms/step - loss: 0.2292 - accuracy: 0.3469 - val_loss: 0.2343 - val_accuracy: 0.3416\n"
     ]
    }
   ],
   "source": [
    "mlp.fit(epochs=100)"
   ]
  },
  {
   "cell_type": "code",
   "execution_count": 4,
   "metadata": {
    "scrolled": true
   },
   "outputs": [
    {
     "data": {
      "image/png": "[encoded data removed]",
      "text/plain": [
       "<Figure size 432x288 with 2 Axes>"
      ]
     },
     "metadata": {
      "needs_background": "light"
     },
     "output_type": "display_data"
    }
   ],
   "source": [
    "mlp.save_model('./saved_models/simple_fm_mlp.h5')\n",
    "logger.plot()"
   ]
  },
  {
   "cell_type": "markdown",
   "metadata": {},
   "source": [
    "#### Long short-term memory (LSTM) "
   ]
  },
  {
   "cell_type": "code",
   "execution_count": 5,
   "metadata": {},
   "outputs": [
    {
     "name": "stdout",
     "output_type": "stream",
     "text": [
      "Model: \"sequential_1\"\n",
      "_________________________________________________________________\n",
      "Layer (type)                 Output Shape              Param #   \n",
      "=================================================================\n",
      "lstm (LSTM)                  (None, 44, 100)           45600     \n",
      "_________________________________________________________________\n",
      "lstm_1 (LSTM)                (None, 44, 100)           80400     \n",
      "_________________________________________________________________\n",
      "lstm_2 (LSTM)                (None, 100)               80400     \n",
      "_________________________________________________________________\n",
      "dropout (Dropout)            (None, 100)               0         \n",
      "_________________________________________________________________\n",
      "dense_4 (Dense)              (None, 9)                 909       \n",
      "=================================================================\n",
      "Total params: 207,309\n",
      "Trainable params: 207,309\n",
      "Non-trainable params: 0\n",
      "_________________________________________________________________\n"
     ]
    }
   ],
   "source": [
    "trainFeatures = np.load('./data_simple_FM_mfcc/train_features.npy')\n",
    "trainParams = np.load('./data_simple_FM_mfcc/train_patches.npy')\n",
    "testFeatures = np.load('./data_simple_FM_mfcc/test_features.npy')\n",
    "testParams = np.load('./data_simple_FM_mfcc/test_patches.npy')\n",
    "\n",
    "# Setup callbacks for trainings\n",
    "logger = spgl.estimator.TFEpochLogger()\n",
    "earlyStopping = tf.keras.callbacks.EarlyStopping(monitor='val_loss', patience=10)\n",
    "\n",
    "lstm = spgl.estimator.LSTM(trainFeatures.shape[-2:],\n",
    "                              trainParams.shape[-1],\n",
    "                              callbacks=[logger, earlyStopping])\n",
    "\n",
    "lstm.add_training_data(trainFeatures, trainParams)\n",
    "lstm.add_testing_data(testFeatures, testParams)\n",
    "lstm.model.summary()"
   ]
  },
  {
   "cell_type": "code",
   "execution_count": 6,
   "metadata": {},
   "outputs": [
    {
     "name": "stdout",
     "output_type": "stream",
     "text": [
      "Train for 782 steps, validate for 157 steps\n",
      "Epoch 1/100\n",
      "782/782 [==============================] - 81s 104ms/step - loss: 0.2666 - accuracy: 0.2356 - val_loss: 0.2522 - val_accuracy: 0.2579\n",
      "Epoch 2/100\n",
      "782/782 [==============================] - 76s 97ms/step - loss: 0.2538 - accuracy: 0.2575 - val_loss: 0.2499 - val_accuracy: 0.2771\n",
      "Epoch 3/100\n",
      "782/782 [==============================] - 76s 97ms/step - loss: 0.2499 - accuracy: 0.2742 - val_loss: 0.2461 - val_accuracy: 0.2839\n",
      "Epoch 4/100\n",
      "782/782 [==============================] - 76s 97ms/step - loss: 0.2460 - accuracy: 0.2870 - val_loss: 0.2411 - val_accuracy: 0.3079\n",
      "Epoch 5/100\n",
      "782/782 [==============================] - 76s 97ms/step - loss: 0.2412 - accuracy: 0.3128 - val_loss: 0.2369 - val_accuracy: 0.3272\n",
      "Epoch 6/100\n",
      "782/782 [==============================] - 76s 97ms/step - loss: 0.2379 - accuracy: 0.3284 - val_loss: 0.2344 - val_accuracy: 0.3392\n",
      "Epoch 7/100\n",
      "782/782 [==============================] - 79s 100ms/step - loss: 0.2357 - accuracy: 0.3332 - val_loss: 0.2327 - val_accuracy: 0.3439\n",
      "Epoch 8/100\n",
      "782/782 [==============================] - 79s 100ms/step - loss: 0.2340 - accuracy: 0.3368 - val_loss: 0.2316 - val_accuracy: 0.3431\n",
      "Epoch 9/100\n",
      "782/782 [==============================] - 79s 101ms/step - loss: 0.2326 - accuracy: 0.3409 - val_loss: 0.2304 - val_accuracy: 0.3423\n",
      "Epoch 10/100\n",
      "782/782 [==============================] - 79s 101ms/step - loss: 0.2313 - accuracy: 0.3452 - val_loss: 0.2293 - val_accuracy: 0.3517\n",
      "Epoch 11/100\n",
      "782/782 [==============================] - 82s 105ms/step - loss: 0.2302 - accuracy: 0.3460 - val_loss: 0.2287 - val_accuracy: 0.3583\n",
      "Epoch 12/100\n",
      "782/782 [==============================] - 78s 100ms/step - loss: 0.2297 - accuracy: 0.3485 - val_loss: 0.2276 - val_accuracy: 0.3537\n",
      "Epoch 13/100\n",
      "782/782 [==============================] - 79s 100ms/step - loss: 0.2284 - accuracy: 0.3527 - val_loss: 0.2272 - val_accuracy: 0.3596\n",
      "Epoch 14/100\n",
      "782/782 [==============================] - 78s 100ms/step - loss: 0.2279 - accuracy: 0.3534 - val_loss: 0.2268 - val_accuracy: 0.3572\n",
      "Epoch 15/100\n",
      "782/782 [==============================] - 79s 101ms/step - loss: 0.2273 - accuracy: 0.3577 - val_loss: 0.2260 - val_accuracy: 0.3626\n",
      "Epoch 16/100\n",
      "782/782 [==============================] - 78s 100ms/step - loss: 0.2264 - accuracy: 0.3588 - val_loss: 0.2256 - val_accuracy: 0.3646\n",
      "Epoch 17/100\n",
      "782/782 [==============================] - 78s 100ms/step - loss: 0.2261 - accuracy: 0.3613 - val_loss: 0.2250 - val_accuracy: 0.3646\n",
      "Epoch 18/100\n",
      "782/782 [==============================] - 79s 101ms/step - loss: 0.2253 - accuracy: 0.3628 - val_loss: 0.2251 - val_accuracy: 0.3692\n",
      "Epoch 19/100\n",
      "782/782 [==============================] - 87s 112ms/step - loss: 0.2250 - accuracy: 0.3647 - val_loss: 0.2244 - val_accuracy: 0.3703\n",
      "Epoch 20/100\n",
      "782/782 [==============================] - 86s 110ms/step - loss: 0.2244 - accuracy: 0.3660 - val_loss: 0.2243 - val_accuracy: 0.3684\n",
      "Epoch 21/100\n",
      "782/782 [==============================] - 90s 116ms/step - loss: 0.2242 - accuracy: 0.3673 - val_loss: 0.2234 - val_accuracy: 0.3707\n",
      "Epoch 22/100\n",
      "782/782 [==============================] - 91s 116ms/step - loss: 0.2238 - accuracy: 0.3686 - val_loss: 0.2236 - val_accuracy: 0.3708\n",
      "Epoch 23/100\n",
      "782/782 [==============================] - 93s 119ms/step - loss: 0.2232 - accuracy: 0.3693 - val_loss: 0.2232 - val_accuracy: 0.3772\n",
      "Epoch 24/100\n",
      "782/782 [==============================] - 92s 117ms/step - loss: 0.2230 - accuracy: 0.3703 - val_loss: 0.2233 - val_accuracy: 0.3760\n",
      "Epoch 25/100\n",
      "782/782 [==============================] - 93s 118ms/step - loss: 0.2227 - accuracy: 0.3710 - val_loss: 0.2226 - val_accuracy: 0.3813\n",
      "Epoch 26/100\n",
      "782/782 [==============================] - 75s 96ms/step - loss: 0.2222 - accuracy: 0.3770 - val_loss: 0.2226 - val_accuracy: 0.3766\n",
      "Epoch 27/100\n",
      "782/782 [==============================] - 82s 105ms/step - loss: 0.2219 - accuracy: 0.3754 - val_loss: 0.2221 - val_accuracy: 0.3778\n",
      "Epoch 28/100\n",
      "782/782 [==============================] - 88s 113ms/step - loss: 0.2217 - accuracy: 0.3770 - val_loss: 0.2222 - val_accuracy: 0.3815\n",
      "Epoch 29/100\n",
      "782/782 [==============================] - 88s 112ms/step - loss: 0.2214 - accuracy: 0.3768 - val_loss: 0.2228 - val_accuracy: 0.3766\n",
      "Epoch 30/100\n",
      "782/782 [==============================] - 88s 112ms/step - loss: 0.2211 - accuracy: 0.3776 - val_loss: 0.2230 - val_accuracy: 0.3783\n",
      "Epoch 31/100\n",
      "782/782 [==============================] - 87s 111ms/step - loss: 0.2209 - accuracy: 0.3768 - val_loss: 0.2214 - val_accuracy: 0.3843\n",
      "Epoch 32/100\n",
      "782/782 [==============================] - 82s 105ms/step - loss: 0.2205 - accuracy: 0.3808 - val_loss: 0.2220 - val_accuracy: 0.3827\n",
      "Epoch 33/100\n",
      "782/782 [==============================] - 79s 102ms/step - loss: 0.2203 - accuracy: 0.3793 - val_loss: 0.2211 - val_accuracy: 0.3871\n",
      "Epoch 34/100\n",
      "782/782 [==============================] - 91s 116ms/step - loss: 0.2200 - accuracy: 0.3794 - val_loss: 0.2213 - val_accuracy: 0.3839\n",
      "Epoch 35/100\n",
      "782/782 [==============================] - 86s 111ms/step - loss: 0.2199 - accuracy: 0.3808 - val_loss: 0.2212 - val_accuracy: 0.3837\n",
      "Epoch 36/100\n",
      "782/782 [==============================] - 90s 115ms/step - loss: 0.2195 - accuracy: 0.3819 - val_loss: 0.2221 - val_accuracy: 0.3829\n",
      "Epoch 37/100\n",
      "782/782 [==============================] - 84s 107ms/step - loss: 0.2194 - accuracy: 0.3820 - val_loss: 0.2216 - val_accuracy: 0.3824\n",
      "Epoch 38/100\n",
      "782/782 [==============================] - 78s 100ms/step - loss: 0.2190 - accuracy: 0.3843 - val_loss: 0.2213 - val_accuracy: 0.3866\n",
      "Epoch 39/100\n",
      "782/782 [==============================] - 79s 100ms/step - loss: 0.2190 - accuracy: 0.3841 - val_loss: 0.2211 - val_accuracy: 0.3888\n",
      "Epoch 40/100\n",
      "782/782 [==============================] - 79s 101ms/step - loss: 0.2188 - accuracy: 0.3841 - val_loss: 0.2219 - val_accuracy: 0.3876\n",
      "Epoch 41/100\n",
      "782/782 [==============================] - 75s 96ms/step - loss: 0.2186 - accuracy: 0.3859 - val_loss: 0.2216 - val_accuracy: 0.3922\n",
      "Epoch 42/100\n",
      "782/782 [==============================] - 81s 103ms/step - loss: 0.2183 - accuracy: 0.3865 - val_loss: 0.2215 - val_accuracy: 0.3864\n",
      "Epoch 43/100\n",
      "782/782 [==============================] - 79s 101ms/step - loss: 0.2183 - accuracy: 0.3878 - val_loss: 0.2215 - val_accuracy: 0.3862\n",
      "Epoch 44/100\n",
      "782/782 [==============================] - 77s 98ms/step - loss: 0.2181 - accuracy: 0.3884 - val_loss: 0.2211 - val_accuracy: 0.3904\n",
      "Epoch 45/100\n",
      "782/782 [==============================] - 76s 97ms/step - loss: 0.2181 - accuracy: 0.3869 - val_loss: 0.2213 - val_accuracy: 0.3916\n",
      "Epoch 46/100\n",
      "782/782 [==============================] - 76s 97ms/step - loss: 0.2175 - accuracy: 0.3893 - val_loss: 0.2210 - val_accuracy: 0.3922\n",
      "Epoch 47/100\n",
      "782/782 [==============================] - 76s 97ms/step - loss: 0.2171 - accuracy: 0.3893 - val_loss: 0.2211 - val_accuracy: 0.3932\n",
      "Epoch 48/100\n",
      "782/782 [==============================] - 75s 96ms/step - loss: 0.2170 - accuracy: 0.3881 - val_loss: 0.2211 - val_accuracy: 0.3918\n",
      "Epoch 49/100\n",
      "782/782 [==============================] - 79s 101ms/step - loss: 0.2167 - accuracy: 0.3902 - val_loss: 0.2215 - val_accuracy: 0.3912\n",
      "Epoch 50/100\n",
      "782/782 [==============================] - 76s 98ms/step - loss: 0.2167 - accuracy: 0.3902 - val_loss: 0.2221 - val_accuracy: 0.3910\n",
      "Epoch 51/100\n",
      "782/782 [==============================] - 77s 99ms/step - loss: 0.2164 - accuracy: 0.3900 - val_loss: 0.2213 - val_accuracy: 0.3928\n",
      "Epoch 52/100\n",
      "782/782 [==============================] - 76s 97ms/step - loss: 0.2162 - accuracy: 0.3903 - val_loss: 0.2216 - val_accuracy: 0.3939\n",
      "Epoch 53/100\n",
      "782/782 [==============================] - 76s 97ms/step - loss: 0.2165 - accuracy: 0.3900 - val_loss: 0.2223 - val_accuracy: 0.3871\n",
      "Epoch 54/100\n",
      "782/782 [==============================] - 76s 97ms/step - loss: 0.2167 - accuracy: 0.3897 - val_loss: 0.2216 - val_accuracy: 0.3918\n",
      "Epoch 55/100\n",
      "782/782 [==============================] - 76s 97ms/step - loss: 0.2158 - accuracy: 0.3920 - val_loss: 0.2214 - val_accuracy: 0.3934\n",
      "Epoch 56/100\n",
      "782/782 [==============================] - 75s 96ms/step - loss: 0.2157 - accuracy: 0.3935 - val_loss: 0.2219 - val_accuracy: 0.3936\n"
     ]
    }
   ],
   "source": [
    "lstm.fit(epochs=100)"
   ]
  },
  {
   "cell_type": "code",
   "execution_count": 7,
   "metadata": {},
   "outputs": [
    {
     "data": {
      "image/png": "[encoded data removed]",
      "text/plain": [
       "<Figure size 432x288 with 2 Axes>"
      ]
     },
     "metadata": {
      "needs_background": "light"
     },
     "output_type": "display_data"
    }
   ],
   "source": [
    "lstm.save_model('./saved_models/simple_fm_lstm.h5')\n",
    "logger.plot()"
   ]
  },
  {
   "cell_type": "markdown",
   "metadata": {},
   "source": [
    "#### Bi-directional long short-term memory with highway layers (LSTM++)"
   ]
  },
  {
   "cell_type": "code",
   "execution_count": 8,
   "metadata": {},
   "outputs": [
    {
     "name": "stdout",
     "output_type": "stream",
     "text": [
      "Model: \"sequential_2\"\n",
      "_________________________________________________________________\n",
      "Layer (type)                 Output Shape              Param #   \n",
      "=================================================================\n",
      "bidirectional (Bidirectional (None, 256)               145408    \n",
      "_________________________________________________________________\n",
      "dropout_1 (Dropout)          (None, 256)               0         \n",
      "_________________________________________________________________\n",
      "dense_5 (Dense)              (None, 64)                16448     \n",
      "_________________________________________________________________\n",
      "highway_layer (HighwayLayer) (None, 64)                8320      \n",
      "_________________________________________________________________\n",
      "highway_layer_1 (HighwayLaye (None, 64)                8320      \n",
      "_________________________________________________________________\n",
      "highway_layer_2 (HighwayLaye (None, 64)                8320      \n",
      "_________________________________________________________________\n",
      "highway_layer_3 (HighwayLaye (None, 64)                8320      \n",
      "_________________________________________________________________\n",
      "highway_layer_4 (HighwayLaye (None, 64)                8320      \n",
      "_________________________________________________________________\n",
      "highway_layer_5 (HighwayLaye (None, 64)                8320      \n",
      "_________________________________________________________________\n",
      "dense_6 (Dense)              (None, 9)                 585       \n",
      "=================================================================\n",
      "Total params: 212,361\n",
      "Trainable params: 212,361\n",
      "Non-trainable params: 0\n",
      "_________________________________________________________________\n"
     ]
    }
   ],
   "source": [
    "# Setup callbacks for trainings\n",
    "logger = spgl.estimator.TFEpochLogger()\n",
    "earlyStopping = tf.keras.callbacks.EarlyStopping(monitor='val_loss', patience=10)\n",
    "\n",
    "bi_lstm = spgl.estimator.HwyBLSTM(trainFeatures.shape[-2:],\n",
    "                                     trainParams.shape[-1],\n",
    "                                     callbacks=[logger, earlyStopping],\n",
    "                                     highway_layers=6)\n",
    "\n",
    "bi_lstm.add_training_data(trainFeatures, trainParams)\n",
    "bi_lstm.add_testing_data(testFeatures, testParams)\n",
    "bi_lstm.model.summary()"
   ]
  },
  {
   "cell_type": "code",
   "execution_count": 9,
   "metadata": {},
   "outputs": [
    {
     "name": "stdout",
     "output_type": "stream",
     "text": [
      "Train for 782 steps, validate for 157 steps\n",
      "Epoch 1/100\n",
      "782/782 [==============================] - 47s 61ms/step - loss: 0.2767 - accuracy: 0.2258 - val_loss: 0.2541 - val_accuracy: 0.2645\n",
      "Epoch 2/100\n",
      "782/782 [==============================] - 44s 56ms/step - loss: 0.2535 - accuracy: 0.2742 - val_loss: 0.2490 - val_accuracy: 0.2993\n",
      "Epoch 3/100\n",
      "782/782 [==============================] - 44s 56ms/step - loss: 0.2490 - accuracy: 0.2955 - val_loss: 0.2463 - val_accuracy: 0.3013\n",
      "Epoch 4/100\n",
      "782/782 [==============================] - 44s 56ms/step - loss: 0.2465 - accuracy: 0.3036 - val_loss: 0.2426 - val_accuracy: 0.3232\n",
      "Epoch 5/100\n",
      "782/782 [==============================] - 44s 56ms/step - loss: 0.2437 - accuracy: 0.3157 - val_loss: 0.2404 - val_accuracy: 0.3241\n",
      "Epoch 6/100\n",
      "782/782 [==============================] - 45s 58ms/step - loss: 0.2415 - accuracy: 0.3207 - val_loss: 0.2385 - val_accuracy: 0.3271\n",
      "Epoch 7/100\n",
      "782/782 [==============================] - 45s 57ms/step - loss: 0.2395 - accuracy: 0.3259 - val_loss: 0.2365 - val_accuracy: 0.3317\n",
      "Epoch 8/100\n",
      "782/782 [==============================] - 44s 57ms/step - loss: 0.2380 - accuracy: 0.3282 - val_loss: 0.2355 - val_accuracy: 0.3344\n",
      "Epoch 9/100\n",
      "782/782 [==============================] - 44s 57ms/step - loss: 0.2368 - accuracy: 0.3317 - val_loss: 0.2343 - val_accuracy: 0.3378\n",
      "Epoch 10/100\n",
      "782/782 [==============================] - 45s 57ms/step - loss: 0.2358 - accuracy: 0.3328 - val_loss: 0.2339 - val_accuracy: 0.3425\n",
      "Epoch 11/100\n",
      "782/782 [==============================] - 45s 57ms/step - loss: 0.2349 - accuracy: 0.3393 - val_loss: 0.2331 - val_accuracy: 0.3418\n",
      "Epoch 12/100\n",
      "782/782 [==============================] - 45s 57ms/step - loss: 0.2340 - accuracy: 0.3401 - val_loss: 0.2325 - val_accuracy: 0.3439\n",
      "Epoch 13/100\n",
      "782/782 [==============================] - 45s 57ms/step - loss: 0.2332 - accuracy: 0.3421 - val_loss: 0.2318 - val_accuracy: 0.3473\n",
      "Epoch 14/100\n",
      "782/782 [==============================] - 45s 57ms/step - loss: 0.2326 - accuracy: 0.3457 - val_loss: 0.2316 - val_accuracy: 0.3437\n",
      "Epoch 15/100\n",
      "782/782 [==============================] - 45s 57ms/step - loss: 0.2318 - accuracy: 0.3467 - val_loss: 0.2307 - val_accuracy: 0.3515\n",
      "Epoch 16/100\n",
      "782/782 [==============================] - 45s 57ms/step - loss: 0.2312 - accuracy: 0.3492 - val_loss: 0.2299 - val_accuracy: 0.3511\n",
      "Epoch 17/100\n",
      "782/782 [==============================] - 45s 57ms/step - loss: 0.2307 - accuracy: 0.3526 - val_loss: 0.2297 - val_accuracy: 0.3538\n",
      "Epoch 18/100\n",
      "782/782 [==============================] - 45s 57ms/step - loss: 0.2301 - accuracy: 0.3554 - val_loss: 0.2296 - val_accuracy: 0.3474\n",
      "Epoch 19/100\n",
      "782/782 [==============================] - 45s 57ms/step - loss: 0.2296 - accuracy: 0.3545 - val_loss: 0.2291 - val_accuracy: 0.3570\n",
      "Epoch 20/100\n",
      "782/782 [==============================] - 45s 57ms/step - loss: 0.2290 - accuracy: 0.3566 - val_loss: 0.2282 - val_accuracy: 0.3621\n",
      "Epoch 21/100\n",
      "782/782 [==============================] - 45s 57ms/step - loss: 0.2286 - accuracy: 0.3573 - val_loss: 0.2277 - val_accuracy: 0.3596\n",
      "Epoch 22/100\n",
      "782/782 [==============================] - 45s 57ms/step - loss: 0.2282 - accuracy: 0.3623 - val_loss: 0.2280 - val_accuracy: 0.3575\n",
      "Epoch 23/100\n",
      "782/782 [==============================] - 45s 57ms/step - loss: 0.2277 - accuracy: 0.3610 - val_loss: 0.2275 - val_accuracy: 0.3621\n",
      "Epoch 24/100\n",
      "782/782 [==============================] - 45s 57ms/step - loss: 0.2274 - accuracy: 0.3637 - val_loss: 0.2269 - val_accuracy: 0.3616\n",
      "Epoch 25/100\n",
      "782/782 [==============================] - 45s 57ms/step - loss: 0.2270 - accuracy: 0.3640 - val_loss: 0.2267 - val_accuracy: 0.3660\n",
      "Epoch 26/100\n",
      "782/782 [==============================] - 45s 57ms/step - loss: 0.2267 - accuracy: 0.3656 - val_loss: 0.2265 - val_accuracy: 0.3684\n",
      "Epoch 27/100\n",
      "782/782 [==============================] - 45s 58ms/step - loss: 0.2265 - accuracy: 0.3674 - val_loss: 0.2265 - val_accuracy: 0.3671\n",
      "Epoch 28/100\n",
      "782/782 [==============================] - 45s 57ms/step - loss: 0.2260 - accuracy: 0.3694 - val_loss: 0.2261 - val_accuracy: 0.3664\n",
      "Epoch 29/100\n",
      "782/782 [==============================] - 45s 57ms/step - loss: 0.2257 - accuracy: 0.3691 - val_loss: 0.2257 - val_accuracy: 0.3730\n",
      "Epoch 30/100\n",
      "782/782 [==============================] - 45s 57ms/step - loss: 0.2255 - accuracy: 0.3706 - val_loss: 0.2253 - val_accuracy: 0.3729\n",
      "Epoch 31/100\n",
      "782/782 [==============================] - 45s 58ms/step - loss: 0.2251 - accuracy: 0.3726 - val_loss: 0.2253 - val_accuracy: 0.3731\n",
      "Epoch 32/100\n",
      "782/782 [==============================] - 45s 57ms/step - loss: 0.2250 - accuracy: 0.3721 - val_loss: 0.2255 - val_accuracy: 0.3723\n",
      "Epoch 33/100\n",
      "782/782 [==============================] - 45s 57ms/step - loss: 0.2246 - accuracy: 0.3742 - val_loss: 0.2250 - val_accuracy: 0.3724\n",
      "Epoch 34/100\n",
      "782/782 [==============================] - 45s 57ms/step - loss: 0.2244 - accuracy: 0.3744 - val_loss: 0.2251 - val_accuracy: 0.3735\n",
      "Epoch 35/100\n",
      "782/782 [==============================] - 45s 57ms/step - loss: 0.2240 - accuracy: 0.3754 - val_loss: 0.2253 - val_accuracy: 0.3764\n",
      "Epoch 36/100\n",
      "782/782 [==============================] - 44s 56ms/step - loss: 0.2239 - accuracy: 0.3763 - val_loss: 0.2249 - val_accuracy: 0.3789\n",
      "Epoch 37/100\n",
      "782/782 [==============================] - 44s 56ms/step - loss: 0.2236 - accuracy: 0.3750 - val_loss: 0.2254 - val_accuracy: 0.3756\n",
      "Epoch 38/100\n",
      "782/782 [==============================] - 44s 56ms/step - loss: 0.2234 - accuracy: 0.3767 - val_loss: 0.2248 - val_accuracy: 0.3784\n",
      "Epoch 39/100\n",
      "782/782 [==============================] - 44s 56ms/step - loss: 0.2232 - accuracy: 0.3796 - val_loss: 0.2248 - val_accuracy: 0.3775\n",
      "Epoch 40/100\n",
      "782/782 [==============================] - 44s 56ms/step - loss: 0.2231 - accuracy: 0.3803 - val_loss: 0.2247 - val_accuracy: 0.3787\n",
      "Epoch 41/100\n",
      "782/782 [==============================] - 44s 56ms/step - loss: 0.2229 - accuracy: 0.3794 - val_loss: 0.2243 - val_accuracy: 0.3787\n",
      "Epoch 42/100\n",
      "782/782 [==============================] - 44s 56ms/step - loss: 0.2227 - accuracy: 0.3793 - val_loss: 0.2254 - val_accuracy: 0.3750\n",
      "Epoch 43/100\n",
      "782/782 [==============================] - 44s 56ms/step - loss: 0.2226 - accuracy: 0.3799 - val_loss: 0.2244 - val_accuracy: 0.3794\n",
      "Epoch 44/100\n",
      "782/782 [==============================] - 44s 56ms/step - loss: 0.2223 - accuracy: 0.3804 - val_loss: 0.2246 - val_accuracy: 0.3785\n",
      "Epoch 45/100\n",
      "782/782 [==============================] - 44s 56ms/step - loss: 0.2222 - accuracy: 0.3803 - val_loss: 0.2246 - val_accuracy: 0.3774\n",
      "Epoch 46/100\n",
      "782/782 [==============================] - 44s 56ms/step - loss: 0.2219 - accuracy: 0.3809 - val_loss: 0.2247 - val_accuracy: 0.3828\n",
      "Epoch 47/100\n",
      "782/782 [==============================] - 44s 56ms/step - loss: 0.2218 - accuracy: 0.3817 - val_loss: 0.2241 - val_accuracy: 0.3818\n",
      "Epoch 48/100\n",
      "782/782 [==============================] - 44s 56ms/step - loss: 0.2216 - accuracy: 0.3828 - val_loss: 0.2241 - val_accuracy: 0.3826\n",
      "Epoch 49/100\n",
      "782/782 [==============================] - 44s 56ms/step - loss: 0.2214 - accuracy: 0.3838 - val_loss: 0.2239 - val_accuracy: 0.3817\n",
      "Epoch 50/100\n",
      "782/782 [==============================] - 44s 56ms/step - loss: 0.2213 - accuracy: 0.3840 - val_loss: 0.2244 - val_accuracy: 0.3829\n",
      "Epoch 51/100\n",
      "782/782 [==============================] - 44s 56ms/step - loss: 0.2212 - accuracy: 0.3824 - val_loss: 0.2240 - val_accuracy: 0.3831\n",
      "Epoch 52/100\n",
      "782/782 [==============================] - 44s 56ms/step - loss: 0.2210 - accuracy: 0.3839 - val_loss: 0.2236 - val_accuracy: 0.3863\n",
      "Epoch 53/100\n",
      "782/782 [==============================] - 45s 57ms/step - loss: 0.2208 - accuracy: 0.3849 - val_loss: 0.2240 - val_accuracy: 0.3805\n",
      "Epoch 54/100\n",
      "782/782 [==============================] - 44s 56ms/step - loss: 0.2206 - accuracy: 0.3853 - val_loss: 0.2237 - val_accuracy: 0.3817\n",
      "Epoch 55/100\n",
      "782/782 [==============================] - 44s 56ms/step - loss: 0.2206 - accuracy: 0.3857 - val_loss: 0.2243 - val_accuracy: 0.3806\n",
      "Epoch 56/100\n",
      "782/782 [==============================] - 44s 56ms/step - loss: 0.2205 - accuracy: 0.3848 - val_loss: 0.2236 - val_accuracy: 0.3828\n"
     ]
    },
    {
     "name": "stdout",
     "output_type": "stream",
     "text": [
      "Epoch 57/100\n",
      "782/782 [==============================] - 43s 55ms/step - loss: 0.2204 - accuracy: 0.3871 - val_loss: 0.2238 - val_accuracy: 0.3884\n",
      "Epoch 58/100\n",
      "782/782 [==============================] - 43s 54ms/step - loss: 0.2201 - accuracy: 0.3849 - val_loss: 0.2238 - val_accuracy: 0.3842\n",
      "Epoch 59/100\n",
      "782/782 [==============================] - 42s 53ms/step - loss: 0.2198 - accuracy: 0.3881 - val_loss: 0.2242 - val_accuracy: 0.3842\n",
      "Epoch 60/100\n",
      "782/782 [==============================] - 42s 53ms/step - loss: 0.2198 - accuracy: 0.3887 - val_loss: 0.2240 - val_accuracy: 0.3864\n",
      "Epoch 61/100\n",
      "782/782 [==============================] - 41s 53ms/step - loss: 0.2197 - accuracy: 0.3882 - val_loss: 0.2239 - val_accuracy: 0.3837\n",
      "Epoch 62/100\n",
      "782/782 [==============================] - 41s 53ms/step - loss: 0.2196 - accuracy: 0.3860 - val_loss: 0.2239 - val_accuracy: 0.3862\n",
      "Epoch 63/100\n",
      "782/782 [==============================] - 41s 53ms/step - loss: 0.2195 - accuracy: 0.3879 - val_loss: 0.2240 - val_accuracy: 0.3849\n",
      "Epoch 64/100\n",
      "782/782 [==============================] - 41s 53ms/step - loss: 0.2194 - accuracy: 0.3874 - val_loss: 0.2241 - val_accuracy: 0.3860\n",
      "Epoch 65/100\n",
      "782/782 [==============================] - 42s 53ms/step - loss: 0.2191 - accuracy: 0.3876 - val_loss: 0.2243 - val_accuracy: 0.3847\n",
      "Epoch 66/100\n",
      "782/782 [==============================] - 41s 53ms/step - loss: 0.2190 - accuracy: 0.3922 - val_loss: 0.2238 - val_accuracy: 0.3867\n"
     ]
    }
   ],
   "source": [
    "bi_lstm.fit(epochs=100)"
   ]
  },
  {
   "cell_type": "code",
   "execution_count": 10,
   "metadata": {},
   "outputs": [
    {
     "data": {
      "image/png": "[encoded data removed]",
      "text/plain": [
       "<Figure size 432x288 with 2 Axes>"
      ]
     },
     "metadata": {
      "needs_background": "light"
     },
     "output_type": "display_data"
    }
   ],
   "source": [
    "bi_lstm.save_model('./saved_models/simple_fm_bi_lstm.h5')\n",
    "logger.plot()"
   ]
  },
  {
   "cell_type": "markdown",
   "metadata": {},
   "source": [
    "#### Convolutional Neural Network (CNN)"
   ]
  },
  {
   "cell_type": "code",
   "execution_count": 11,
   "metadata": {},
   "outputs": [],
   "source": [
    "trainFeatures = np.load('./data_simple_FM_stft/train_features.npy')\n",
    "trainParams = np.load('./data_simple_FM_stft/train_patches.npy')\n",
    "testFeatures = np.load('./data_simple_FM_stft/test_features.npy')\n",
    "testParams = np.load('./data_simple_FM_stft/test_patches.npy')    \n",
    "\n",
    "# Create \"STFT Images\" with one channel for 2D CNN\n",
    "trainFeatures = trainFeatures.reshape(trainFeatures.shape[0], trainFeatures.shape[1], trainFeatures.shape[2], 1)\n",
    "testFeatures = testFeatures.reshape(testFeatures.shape[0], testFeatures.shape[1], testFeatures.shape[2], 1)"
   ]
  },
  {
   "cell_type": "code",
   "execution_count": 12,
   "metadata": {},
   "outputs": [
    {
     "name": "stdout",
     "output_type": "stream",
     "text": [
      "Model: \"sequential_3\"\n",
      "_________________________________________________________________\n",
      "Layer (type)                 Output Shape              Param #   \n",
      "=================================================================\n",
      "conv2d (Conv2D)              (None, 87, 128, 32)       320       \n",
      "_________________________________________________________________\n",
      "conv2d_1 (Conv2D)            (None, 43, 63, 71)        20519     \n",
      "_________________________________________________________________\n",
      "conv2d_2 (Conv2D)            (None, 21, 20, 128)       109184    \n",
      "_________________________________________________________________\n",
      "conv2d_3 (Conv2D)            (None, 10, 9, 128)        147584    \n",
      "_________________________________________________________________\n",
      "conv2d_4 (Conv2D)            (None, 4, 4, 128)         147584    \n",
      "_________________________________________________________________\n",
      "conv2d_5 (Conv2D)            (None, 2, 1, 128)         147584    \n",
      "_________________________________________________________________\n",
      "dropout_2 (Dropout)          (None, 2, 1, 128)         0         \n",
      "_________________________________________________________________\n",
      "flatten (Flatten)            (None, 256)               0         \n",
      "_________________________________________________________________\n",
      "dense_7 (Dense)              (None, 9)                 2313      \n",
      "=================================================================\n",
      "Total params: 575,088\n",
      "Trainable params: 575,088\n",
      "Non-trainable params: 0\n",
      "_________________________________________________________________\n"
     ]
    }
   ],
   "source": [
    "# Setup callbacks for trainings\n",
    "logger = spgl.estimator.TFEpochLogger()\n",
    "earlyStopping = tf.keras.callbacks.EarlyStopping(monitor='val_loss', patience=10)\n",
    "\n",
    "cnn = spgl.estimator.Conv6(trainFeatures.shape[1:],\n",
    "                              trainParams.shape[-1],\n",
    "                              callbacks=[logger, earlyStopping])\n",
    "\n",
    "cnn.add_training_data(trainFeatures, trainParams)\n",
    "cnn.add_testing_data(testFeatures, testParams)\n",
    "cnn.model.summary()"
   ]
  },
  {
   "cell_type": "code",
   "execution_count": 13,
   "metadata": {},
   "outputs": [
    {
     "name": "stdout",
     "output_type": "stream",
     "text": [
      "Train for 782 steps, validate for 157 steps\n",
      "Epoch 1/100\n",
      "782/782 [==============================] - 366s 468ms/step - loss: 0.2618 - accuracy: 0.2453 - val_loss: 0.2500 - val_accuracy: 0.2611\n",
      "Epoch 2/100\n",
      "782/782 [==============================] - 361s 461ms/step - loss: 0.2485 - accuracy: 0.2831 - val_loss: 0.2425 - val_accuracy: 0.2897\n",
      "Epoch 3/100\n",
      "782/782 [==============================] - 355s 455ms/step - loss: 0.2442 - accuracy: 0.2934 - val_loss: 0.2411 - val_accuracy: 0.2945\n",
      "Epoch 4/100\n",
      "782/782 [==============================] - 360s 460ms/step - loss: 0.2417 - accuracy: 0.3020 - val_loss: 0.2401 - val_accuracy: 0.3001\n",
      "Epoch 5/100\n",
      "782/782 [==============================] - 359s 459ms/step - loss: 0.2398 - accuracy: 0.3067 - val_loss: 0.2393 - val_accuracy: 0.2999\n",
      "Epoch 6/100\n",
      "782/782 [==============================] - 360s 461ms/step - loss: 0.2384 - accuracy: 0.3120 - val_loss: 0.2393 - val_accuracy: 0.2983\n",
      "Epoch 7/100\n",
      "782/782 [==============================] - 357s 456ms/step - loss: 0.2371 - accuracy: 0.3116 - val_loss: 0.2396 - val_accuracy: 0.3017\n",
      "Epoch 8/100\n",
      "782/782 [==============================] - 358s 458ms/step - loss: 0.2357 - accuracy: 0.3181 - val_loss: 0.2402 - val_accuracy: 0.2990\n",
      "Epoch 9/100\n",
      "782/782 [==============================] - 366s 469ms/step - loss: 0.2342 - accuracy: 0.3224 - val_loss: 0.2410 - val_accuracy: 0.3025\n",
      "Epoch 10/100\n",
      "782/782 [==============================] - 363s 464ms/step - loss: 0.2329 - accuracy: 0.3232 - val_loss: 0.2411 - val_accuracy: 0.3036\n",
      "Epoch 11/100\n",
      "782/782 [==============================] - 364s 466ms/step - loss: 0.2313 - accuracy: 0.3316 - val_loss: 0.2428 - val_accuracy: 0.3051\n",
      "Epoch 12/100\n",
      "782/782 [==============================] - 366s 468ms/step - loss: 0.2299 - accuracy: 0.3308 - val_loss: 0.2438 - val_accuracy: 0.2993\n",
      "Epoch 13/100\n",
      "782/782 [==============================] - 360s 460ms/step - loss: 0.2283 - accuracy: 0.3391 - val_loss: 0.2447 - val_accuracy: 0.3007\n",
      "Epoch 14/100\n",
      "782/782 [==============================] - 358s 458ms/step - loss: 0.2269 - accuracy: 0.3398 - val_loss: 0.2468 - val_accuracy: 0.2981\n",
      "Epoch 15/100\n",
      "782/782 [==============================] - 361s 462ms/step - loss: 0.2251 - accuracy: 0.3482 - val_loss: 0.2469 - val_accuracy: 0.2968\n"
     ]
    }
   ],
   "source": [
    "cnn.fit(epochs=100)"
   ]
  },
  {
   "cell_type": "code",
   "execution_count": 14,
   "metadata": {},
   "outputs": [
    {
     "data": {
      "image/png": "[encoded data removed]",
      "text/plain": [
       "<Figure size 432x288 with 2 Axes>"
      ]
     },
     "metadata": {
      "needs_background": "light"
     },
     "output_type": "display_data"
    }
   ],
   "source": [
    "cnn.save_model('./saved_models/simple_fm_cnn.h5')\n",
    "logger.plot()"
   ]
  }
 ],
 "metadata": {
  "kernelspec": {
   "display_name": "Python 3",
   "language": "python",
   "name": "python3"
  },
  "language_info": {
   "codemirror_mode": {
    "name": "ipython",
    "version": 3
   },
   "file_extension": ".py",
   "mimetype": "text/x-python",
   "name": "python",
   "nbconvert_exporter": "python",
   "pygments_lexer": "ipython3",
   "version": "3.7.7"
  }
 },
 "nbformat": 4,
 "nbformat_minor": 4
}
