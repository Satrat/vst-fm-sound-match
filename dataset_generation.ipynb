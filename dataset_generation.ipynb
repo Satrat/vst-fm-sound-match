{
 "cells": [
  {
   "cell_type": "markdown",
   "metadata": {},
   "source": [
    "## Dataset Generation"
   ]
  },
  {
   "cell_type": "markdown",
   "metadata": {},
   "source": [
    "Here we generate and save datasets for training and validating deep learning models. Additionally, we create a small audio dataset for evaluating all the different deep learning and evaluation methods compared."
   ]
  },
  {
   "cell_type": "code",
   "execution_count": 4,
   "metadata": {},
   "outputs": [],
   "source": [
    "import spiegel\n",
    "import numpy as np\n",
    "import tensorflow as tf"
   ]
  },
  {
   "cell_type": "markdown",
   "metadata": {},
   "source": [
    "Load Dexed VST, set the note length and render length to be one second. For this experiment we aren't worried about the release of the sound, but you can set the render length longer than the note length to capture the release portion of a signal. Synthesizer parameters are loaded from a JSON file that describes all the overrriden parameters and their values."
   ]
  },
  {
   "cell_type": "code",
   "execution_count": 5,
   "metadata": {},
   "outputs": [],
   "source": [
    "synth = spiegel.synth.SynthVST(\"/Library/Audio/Plug-Ins/VST/Dexed.vst\", note_length_secs=1.0, render_length_secs=1.0)\n",
    "synth.load_state(\"./synth_params/dexed_simple_fm.json\")"
   ]
  },
  {
   "cell_type": "markdown",
   "metadata": {},
   "source": [
    "#### MFCC Dataset"
   ]
  },
  {
   "cell_type": "markdown",
   "metadata": {},
   "source": [
    "Generate training and testing dataset using Mel-frequency Cepstral Coefficients feature extraction. The DatasetGenerator class works by generating random patches from the synthesizer, then running audio feature extraction on the resulting sound, and then saving the audio features and parameter values used to generate that sound. Audio features and parameter values are saved in seperate .npy files.\n",
    "\n",
    "We set the time_major flag to True so that the orientation of the output is (time_slices, features), as opposed to (features, time_slices) which is default. This is how TensorFlow models expect the date to be oriented.\n",
    "\n",
    "Normalization of the dataset is run by the first data generation, which also saves the settings used to normalize that data. These normalization settings are then used to normalize the testing dataset and are saved for future use.\n",
    "\n",
    "The total size of this dataset is about 140MB."
   ]
  },
  {
   "cell_type": "code",
   "execution_count": 4,
   "metadata": {
    "scrolled": true
   },
   "outputs": [
    {
     "name": "stderr",
     "output_type": "stream",
     "text": [
      "Generating Dataset: 100%|██████████| 50000/50000 [15:27<00:00, 53.90it/s]\n",
      "Generating Dataset: 100%|██████████| 10000/10000 [03:09<00:00, 52.67it/s]\n"
     ]
    }
   ],
   "source": [
    "# Mel-frequency Cepstral Coefficients audio feature extractor.\n",
    "features = spiegel.features.MFCC(num_mfccs=13, time_major=True, hop_size=1024)\n",
    "\n",
    "# Setup generator for MFCC output and generate 50000 training examples and 10000 testing examples\n",
    "generator = spiegel.DatasetGenerator(synth, features,\n",
    "                                     output_folder=\"./data_simple_FM_mfcc\",\n",
    "                                     normalize=True)\n",
    "generator.generate(50000, file_prefix=\"train_\")\n",
    "generator.generate(10000, file_prefix=\"test_\")\n",
    "generator.save_normalizers('normalizers.pkl')"
   ]
  },
  {
   "cell_type": "markdown",
   "metadata": {},
   "source": [
    "#### STFT Dataset"
   ]
  },
  {
   "cell_type": "markdown",
   "metadata": {},
   "source": [
    "Generate training and testing dataset using the magnitude of a STFT and is run very similarily to the MFCC dataset generation. This dataset will be used to train the convolutional neural network. \n",
    "\n",
    "The total size of the resulting dataset is about 10.8GB."
   ]
  },
  {
   "cell_type": "code",
   "execution_count": 7,
   "metadata": {},
   "outputs": [
    {
     "name": "stderr",
     "output_type": "stream",
     "text": [
      "Generating Dataset: 100%|██████████| 500/500 [00:06<00:00, 76.84it/s]\n"
     ]
    },
    {
     "name": "stdout",
     "output_type": "stream",
     "text": [
      "Fitting normalizers and normalizing data\n"
     ]
    },
    {
     "name": "stderr",
     "output_type": "stream",
     "text": [
      "Generating Dataset: 100%|██████████| 100/100 [00:01<00:00, 76.33it/s]\n"
     ]
    }
   ],
   "source": [
    "# Magnitude STFT ouptut feature extraction\n",
    "features = spiegel.features.STFT(fft_size=512, hop_size=256, output='magnitude', time_major=True)\n",
    "\n",
    "# Setup generator and create dataset\n",
    "generator = spiegel.DatasetGenerator(synth, features, output_folder=\"./data_simple_FM_stft\", normalize=True)\n",
    "generator.generate(50000, file_prefix=\"train_\")\n",
    "generator.generate(10000, file_prefix=\"test_\")\n",
    "generator.save_normalizers('noramlizers.pkl')"
   ]
  },
  {
   "cell_type": "markdown",
   "metadata": {},
   "source": [
    "#### Evaluation Dataset"
   ]
  },
  {
   "cell_type": "markdown",
   "metadata": {},
   "source": [
    "Create an audio set for evaluation. We set the save_audio argument to True in the DatasetGenerator constructor so that audio WAV files are saved for this set."
   ]
  },
  {
   "cell_type": "code",
   "execution_count": 5,
   "metadata": {},
   "outputs": [
    {
     "name": "stderr",
     "output_type": "stream",
     "text": [
      "Generating Dataset: 100%|██████████| 25/25 [00:00<00:00, 50.95it/s]\n"
     ]
    }
   ],
   "source": [
    "eval_generator = spiegel.DatasetGenerator(synth, features,\n",
    "                                          output_folder='./evaluation',\n",
    "                                          save_audio=True)\n",
    "eval_generator.generate(25)"
   ]
  }
 ],
 "metadata": {
  "kernelspec": {
   "display_name": "Python 3",
   "language": "python",
   "name": "python3"
  },
  "language_info": {
   "codemirror_mode": {
    "name": "ipython",
    "version": 3
   },
   "file_extension": ".py",
   "mimetype": "text/x-python",
   "name": "python",
   "nbconvert_exporter": "python",
   "pygments_lexer": "ipython3",
   "version": "3.7.5"
  }
 },
 "nbformat": 4,
 "nbformat_minor": 4
}
