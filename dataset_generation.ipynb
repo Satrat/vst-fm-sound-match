{
 "cells": [
  {
   "cell_type": "code",
   "execution_count": 4,
   "metadata": {},
   "outputs": [],
   "source": [
    "import spiegel\n",
    "import numpy as np\n",
    "import tensorflow as tf"
   ]
  },
  {
   "cell_type": "markdown",
   "metadata": {},
   "source": [
    "Load Dexed VST, set the note length and render length to be one second. For this experiment we aren't worried about the release of the sound, but you can set the render length longer than the note length to capture the release portion of a signal. Synthesizer parameters are loaded from a JSON file that describes all the overrriden parameters and their values."
   ]
  },
  {
   "cell_type": "code",
   "execution_count": 5,
   "metadata": {},
   "outputs": [],
   "source": [
    "synth = spiegel.synth.SynthVST(\"/Library/Audio/Plug-Ins/VST/Dexed.vst\", note_length_secs=1.0, render_length_secs=1.0)\n",
    "synth.load_state(\"./synth_params/dexed_simple_fm.json\")"
   ]
  },
  {
   "cell_type": "code",
   "execution_count": 6,
   "metadata": {},
   "outputs": [],
   "source": [
    "features = spiegel.features.MFCC(num_mfccs=13, time_major=True, hop_size=1024)"
   ]
  },
  {
   "cell_type": "markdown",
   "metadata": {},
   "source": [
    "Generate training and testing dataset using MFCC feature extraction"
   ]
  },
  {
   "cell_type": "code",
   "execution_count": 4,
   "metadata": {
    "scrolled": true
   },
   "outputs": [
    {
     "name": "stderr",
     "output_type": "stream",
     "text": [
      "Generating Dataset: 100%|██████████| 50000/50000 [15:27<00:00, 53.90it/s]\n",
      "Generating Dataset: 100%|██████████| 10000/10000 [03:09<00:00, 52.67it/s]\n"
     ]
    }
   ],
   "source": [
    "generator = spiegel.DatasetGenerator(synth, features,\n",
    "                                     output_folder=\"./data_simple_FM_mfcc\",\n",
    "                                     normalize=True)\n",
    "generator.generate(50000, file_prefix=\"train_\")\n",
    "generator.generate(10000, file_prefix=\"test_\")\n",
    "generator.save_normalizers('normalizers.pkl')"
   ]
  },
  {
   "cell_type": "markdown",
   "metadata": {},
   "source": [
    "Generate training and testing dataset using STFT magnitude feature extraction"
   ]
  },
  {
   "cell_type": "code",
   "execution_count": 7,
   "metadata": {},
   "outputs": [
    {
     "name": "stderr",
     "output_type": "stream",
     "text": [
      "Generating Dataset: 100%|██████████| 500/500 [00:06<00:00, 76.84it/s]\n"
     ]
    },
    {
     "name": "stdout",
     "output_type": "stream",
     "text": [
      "Fitting normalizers and normalizing data\n"
     ]
    },
    {
     "name": "stderr",
     "output_type": "stream",
     "text": [
      "Generating Dataset: 100%|██████████| 100/100 [00:01<00:00, 76.33it/s]\n"
     ]
    }
   ],
   "source": [
    "# Magnitude STFT ouptut feature extraction\n",
    "features = spiegel.features.STFT(fft_size=512, hop_size=256, output='magnitude', time_major=True)\n",
    "\n",
    "# Setup generator and create dataset\n",
    "generator = spiegel.DatasetGenerator(synth, features, output_folder=\"./data_simple_FM_stft\", normalize=True)\n",
    "generator.generate(50000, file_prefix=\"train_\")\n",
    "generator.generate(10000, file_prefix=\"test_\")\n",
    "generator.save_normalizers('noramlizers.pkl')"
   ]
  },
  {
   "cell_type": "markdown",
   "metadata": {},
   "source": [
    "Create an audio set for evaluation"
   ]
  },
  {
   "cell_type": "code",
   "execution_count": 5,
   "metadata": {},
   "outputs": [
    {
     "name": "stderr",
     "output_type": "stream",
     "text": [
      "Generating Dataset: 100%|██████████| 25/25 [00:00<00:00, 50.95it/s]\n"
     ]
    }
   ],
   "source": [
    "eval_generator = spiegel.DatasetGenerator(synth, features,\n",
    "                                          output_folder='./evaluation',\n",
    "                                          save_audio=True)\n",
    "eval_generator.generate(25)"
   ]
  }
 ],
 "metadata": {
  "kernelspec": {
   "display_name": "Python 3",
   "language": "python",
   "name": "python3"
  },
  "language_info": {
   "codemirror_mode": {
    "name": "ipython",
    "version": 3
   },
   "file_extension": ".py",
   "mimetype": "text/x-python",
   "name": "python",
   "nbconvert_exporter": "python",
   "pygments_lexer": "ipython3",
   "version": "3.7.5"
  }
 },
 "nbformat": 4,
 "nbformat_minor": 4
}
