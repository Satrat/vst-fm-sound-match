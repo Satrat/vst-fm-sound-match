{
 "cells": [
  {
   "cell_type": "markdown",
   "metadata": {},
   "source": [
    "## Dataset Generation"
   ]
  },
  {
   "cell_type": "markdown",
   "metadata": {},
   "source": [
    "In this notebook we generate and save datasets for training and validating deep learning models. Additionally, we create a small audio dataset for evaluation."
   ]
  },
  {
   "cell_type": "code",
   "execution_count": 1,
   "metadata": {},
   "outputs": [],
   "source": [
    "import spiegelib as spgl"
   ]
  },
  {
   "cell_type": "markdown",
   "metadata": {},
   "source": [
    "Load Dexed and set the note length and render length to be one second. For this experiment we aren’t worried about the release of the sound, but you can set the render length longer than the note length to capture the release portion of a signal. Also reload the configuration previously saved."
   ]
  },
  {
   "cell_type": "code",
   "execution_count": 2,
   "metadata": {},
   "outputs": [],
   "source": [
    "synth = spgl.synth.SynthVST(\"/Library/Audio/Plug-Ins/VST/Dexed.vst\", note_length_secs=1.0, render_length_secs=1.0)\n",
    "synth.load_state('./synth_params/dexed_simple_fm.json')"
   ]
  },
  {
   "cell_type": "markdown",
   "metadata": {},
   "source": [
    "#### MFCC Dataset"
   ]
  },
  {
   "cell_type": "markdown",
   "metadata": {},
   "source": [
    "Generate training and testing dataset using Mel-frequency Cepstral Coefficients feature extraction. The DatasetGenerator class works by generating random patches from the synthesizer, then running audio feature extraction on the resulting sound, and then saving the audio features and parameter values. Audio features and parameter values are saved in seperate .npy files.\n",
    "\n",
    "We set the time_major argument to True so that the orientation of the output is (time_slices, features), as opposed to (features, time_slices) which is default. This is how TensorFlow models expect the data to be oriented.\n",
    "\n",
    "Normalization settings used for the training dataset are saved as a .pkl file. These settings are used to ensure future data is normalized in the same way.\n",
    "\n",
    "The total size of this dataset is about 140MB."
   ]
  },
  {
   "cell_type": "code",
   "execution_count": 3,
   "metadata": {
    "scrolled": true
   },
   "outputs": [
    {
     "name": "stderr",
     "output_type": "stream",
     "text": [
      "Generating Dataset: 100%|██████████| 50000/50000 [17:05<00:00, 48.74it/s] "
     ]
    },
    {
     "name": "stdout",
     "output_type": "stream",
     "text": [
      "Fitting normalizers and normalizing data\n"
     ]
    },
    {
     "name": "stderr",
     "output_type": "stream",
     "text": [
      "\n",
      "Fitting Normalizers: 100%|██████████| 13/13 [00:01<00:00,  8.76it/s]\n",
      "Generating Dataset: 100%|██████████| 10000/10000 [03:03<00:00, 54.57it/s]\n"
     ]
    }
   ],
   "source": [
    "# Mel-frequency Cepstral Coefficients audio feature extractor.\n",
    "features = spgl.features.MFCC(num_mfccs=13, time_major=True, hop_size=1024)\n",
    "\n",
    "# Setup generator for MFCC output and generate 50000 training examples and 10000 testing examples\n",
    "generator = spgl.DatasetGenerator(synth, features,\n",
    "                                  output_folder=\"./data_simple_FM_mfcc\",\n",
    "                                  normalize=True)\n",
    "generator.generate(50000, file_prefix=\"train_\")\n",
    "generator.generate(10000, file_prefix=\"test_\")\n",
    "generator.save_normalizers('normalizers.pkl')"
   ]
  },
  {
   "cell_type": "markdown",
   "metadata": {},
   "source": [
    "#### STFT Dataset"
   ]
  },
  {
   "cell_type": "markdown",
   "metadata": {},
   "source": [
    "Generate training and testing dataset using the magnitude of the STFT. This dataset will be used to train the convolutional neural network. \n",
    "\n",
    "The total size of the resulting dataset is about 10.8GB."
   ]
  },
  {
   "cell_type": "code",
   "execution_count": 4,
   "metadata": {},
   "outputs": [
    {
     "name": "stderr",
     "output_type": "stream",
     "text": [
      "Generating Dataset: 100%|██████████| 50000/50000 [11:01<00:00, 75.62it/s]"
     ]
    },
    {
     "name": "stdout",
     "output_type": "stream",
     "text": [
      "Fitting normalizers and normalizing data\n"
     ]
    },
    {
     "name": "stderr",
     "output_type": "stream",
     "text": [
      "\n",
      "Generating Dataset: 100%|██████████| 10000/10000 [02:13<00:00, 75.09it/s]\n"
     ]
    }
   ],
   "source": [
    "# Magnitude STFT ouptut feature extraction\n",
    "features = spgl.features.STFT(fft_size=512, hop_size=256, output='magnitude', time_major=True)\n",
    "\n",
    "# Setup generator and create dataset\n",
    "generator = spgl.DatasetGenerator(synth, features, output_folder=\"./data_simple_FM_stft\", normalize=True)\n",
    "generator.generate(50000, file_prefix=\"train_\")\n",
    "generator.generate(10000, file_prefix=\"test_\")\n",
    "generator.save_normalizers('normalizers.pkl')"
   ]
  },
  {
   "cell_type": "markdown",
   "metadata": {},
   "source": [
    "#### Evaluation Dataset"
   ]
  },
  {
   "cell_type": "markdown",
   "metadata": {},
   "source": [
    "Create an audio set for evaluation. We set the save_audio argument to True in the DatasetGenerator constructor so that audio WAV files are saved."
   ]
  },
  {
   "cell_type": "code",
   "execution_count": 5,
   "metadata": {},
   "outputs": [
    {
     "name": "stderr",
     "output_type": "stream",
     "text": [
      "Generating Dataset: 100%|██████████| 25/25 [00:00<00:00, 64.07it/s]\n"
     ]
    }
   ],
   "source": [
    "eval_generator = spgl.DatasetGenerator(synth, features,\n",
    "                                       output_folder='./evaluation',\n",
    "                                       save_audio=True)\n",
    "eval_generator.generate(25)"
   ]
  }
 ],
 "metadata": {
  "kernelspec": {
   "display_name": "Python 3",
   "language": "python",
   "name": "python3"
  },
  "language_info": {
   "codemirror_mode": {
    "name": "ipython",
    "version": 3
   },
   "file_extension": ".py",
   "mimetype": "text/x-python",
   "name": "python",
   "nbconvert_exporter": "python",
   "pygments_lexer": "ipython3",
   "version": "3.7.7"
  }
 },
 "nbformat": 4,
 "nbformat_minor": 4
}
