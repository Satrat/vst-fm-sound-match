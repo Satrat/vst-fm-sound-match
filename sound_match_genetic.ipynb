{
 "cells": [
  {
   "cell_type": "markdown",
   "metadata": {},
   "source": [
    "## Sound Match Genetic Algorithm Estimators"
   ]
  },
  {
   "cell_type": "markdown",
   "metadata": {},
   "source": [
    "Here we perform sound matching of the evaluation target set using two genetic algorithm based approaches and save the resulting audio files to disk for evaluation"
   ]
  },
  {
   "cell_type": "code",
   "execution_count": 1,
   "metadata": {},
   "outputs": [],
   "source": [
    "import spiegelib as spgl"
   ]
  },
  {
   "cell_type": "code",
   "execution_count": 2,
   "metadata": {},
   "outputs": [],
   "source": [
    "# Load synth with overriden params\n",
    "synth = spgl.synth.SynthVST(\"/Library/Audio/Plug-Ins/Components/Dexed.component\",\n",
    "                               note_length_secs=1.0, render_length_secs=1.0)\n",
    "synth.load_state(\"./synth_params/dexed_simple_fm.json\")"
   ]
  },
  {
   "cell_type": "markdown",
   "metadata": {},
   "source": [
    "#### Basic Genetic Algorithm"
   ]
  },
  {
   "cell_type": "markdown",
   "metadata": {},
   "source": [
    "Setup the feature extractor for the basic single-objective genetic algorithm. It uses a 13-band MFCC, which is calculated on every new individual in the population. The error between an individual and the target audio sound is used the evaluate the fitness of each individual."
   ]
  },
  {
   "cell_type": "code",
   "execution_count": 3,
   "metadata": {},
   "outputs": [],
   "source": [
    "# MFCC features\n",
    "ga_extractor = spgl.features.MFCC(num_mfccs=13, hop_size=1024)\n",
    "\n",
    "# Basic Genetic Algorithm estimator\n",
    "ga = spgl.estimator.BasicGA(synth, ga_extractor, pop_size=300, ngen=100)\n",
    "\n",
    "# Sound matching helper class\n",
    "ga_matcher = spgl.SoundMatch(synth, ga)"
   ]
  },
  {
   "cell_type": "markdown",
   "metadata": {},
   "source": [
    "#### Non-dominated sorting genetic algorithm III (NSGA III)"
   ]
  },
  {
   "cell_type": "markdown",
   "metadata": {},
   "source": [
    "Setup the feature extractors for the multi-objective genetic algorithm. Each extractor is used for one of the GA objectives, so in this instance there are 3 objectives: MFCC, Spectral Summarized, and FFT."
   ]
  },
  {
   "cell_type": "code",
   "execution_count": 4,
   "metadata": {},
   "outputs": [],
   "source": [
    "# Feature extractors for Multi-Objective GA\n",
    "nsga_extractors = [spgl.features.MFCC(num_mfccs=13, hop_size=1024),\n",
    "                   spgl.features.SpectralSummarized(hop_size=1024),\n",
    "                   spgl.features.FFT(output='magnitude')]\n",
    "\n",
    "# NSGA3 Multi-Objective Genetic Algorithm\n",
    "nsga = spgl.estimator.NSGA3(synth, nsga_extractors, pop_size=300, ngen=100)\n",
    "\n",
    "# Sound matching helper class\n",
    "nsga_matcher = spgl.SoundMatch(synth, nsga)"
   ]
  },
  {
   "cell_type": "markdown",
   "metadata": {},
   "source": [
    "#### Sound Matching"
   ]
  },
  {
   "cell_type": "markdown",
   "metadata": {},
   "source": [
    "Load in the folder of evaluation audio samples and perform sound matching on each one using both genetic algorithms. This may take several hours to run on all 25 sounds."
   ]
  },
  {
   "cell_type": "code",
   "execution_count": null,
   "metadata": {},
   "outputs": [],
   "source": [
    "targets = spgl.AudioBuffer.load_folder('./evaluation/audio')\n",
    "\n",
    "for i in range(len(targets)):\n",
    "    audio = ga_matcher.match(targets[i])\n",
    "    audio.save('./evaluation/ga/ga_predicition_%s.wav' % i)\n",
    "    \n",
    "    audio = nsga_matcher.match(targets[i])\n",
    "    audio.save('./evaluation/nsga/nsga_prediction_%s.wav' % i)"
   ]
  }
 ],
 "metadata": {
  "kernelspec": {
   "display_name": "Python 3",
   "language": "python",
   "name": "python3"
  },
  "language_info": {
   "codemirror_mode": {
    "name": "ipython",
    "version": 3
   },
   "file_extension": ".py",
   "mimetype": "text/x-python",
   "name": "python",
   "nbconvert_exporter": "python",
   "pygments_lexer": "ipython3",
   "version": "3.7.16"
  }
 },
 "nbformat": 4,
 "nbformat_minor": 4
}
